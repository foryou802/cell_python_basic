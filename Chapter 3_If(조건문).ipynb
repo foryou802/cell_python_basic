{
 "cells": [
  {
   "cell_type": "markdown",
   "metadata": {},
   "source": [
    "## # If"
   ]
  },
  {
   "cell_type": "markdown",
   "metadata": {},
   "source": [
    "### If 기초"
   ]
  },
  {
   "cell_type": "code",
   "execution_count": 1,
   "metadata": {},
   "outputs": [],
   "source": [
    "people = 3\n",
    "apple = 20"
   ]
  },
  {
   "cell_type": "code",
   "execution_count": 2,
   "metadata": {},
   "outputs": [
    {
     "name": "stdout",
     "output_type": "stream",
     "text": [
      "신나는 사과 파티! 배 터지게 먹자\n"
     ]
    }
   ],
   "source": [
    "if people < apple / 5 :\n",
    "    print('신나는 사과 파티! 배 터지게 먹자')    "
   ]
  },
  {
   "cell_type": "code",
   "execution_count": 3,
   "metadata": {},
   "outputs": [
    {
     "name": "stdout",
     "output_type": "stream",
     "text": [
      "사과 수가 맞지 않아! 몇 개는 쪼개어 먹자\n"
     ]
    }
   ],
   "source": [
    "if apple % people > 0 :\n",
    "    print('사과 수가 맞지 않아! 몇 개는 쪼개어 먹자')"
   ]
  },
  {
   "cell_type": "code",
   "execution_count": 4,
   "metadata": {},
   "outputs": [],
   "source": [
    "if people > apple :\n",
    "    print('사람이 너무 많아! 몇 명은 못 먹겠는걸...')"
   ]
  },
  {
   "cell_type": "code",
   "execution_count": 5,
   "metadata": {},
   "outputs": [
    {
     "name": "stdout",
     "output_type": "stream",
     "text": [
      "조건식이 True면 실행됩니다. 단, 소문자 true는 error가 나요.\n"
     ]
    }
   ],
   "source": [
    "if True :\n",
    "    print('조건식이 True면 실행됩니다. 단, 소문자 true는 error가 나요.')"
   ]
  },
  {
   "cell_type": "code",
   "execution_count": 6,
   "metadata": {},
   "outputs": [],
   "source": [
    "if False :\n",
    "    print(\"조건식이 False면 실행되지 않습니다.\")"
   ]
  },
  {
   "cell_type": "code",
   "execution_count": 7,
   "metadata": {},
   "outputs": [
    {
     "name": "stdout",
     "output_type": "stream",
     "text": [
      "조건식에서 동등은 '=='로 나타냅니다. '='는 에러가 납니다.\n"
     ]
    }
   ],
   "source": [
    "# if 조건문에서 숫자를 비교할 때 쓰는 부등호 : >, <, >=, <=, ==, !=\n",
    "people = 5\n",
    "if people == 5 :\n",
    "    print(\"조건식에서 동등은 '=='로 나타냅니다. '='는 에러가 납니다.\")"
   ]
  },
  {
   "cell_type": "code",
   "execution_count": 8,
   "metadata": {},
   "outputs": [
    {
     "name": "stdout",
     "output_type": "stream",
     "text": [
      "조건식에서 같지 않다는 '!='로 나타냅니다. '=!'는 에러가 납니다.\n"
     ]
    }
   ],
   "source": [
    "if people != 4 :\n",
    "    print(\"조건식에서 같지 않다는 '!='로 나타냅니다. '=!'는 에러가 납니다.\")"
   ]
  },
  {
   "cell_type": "markdown",
   "metadata": {},
   "source": [
    "### Boolean 연산"
   ]
  },
  {
   "cell_type": "code",
   "execution_count": 9,
   "metadata": {},
   "outputs": [
    {
     "name": "stdout",
     "output_type": "stream",
     "text": [
      "'and' 연산 'True'\n"
     ]
    }
   ],
   "source": [
    "a = -10\n",
    "b = 10\n",
    "\n",
    "if a < 0 and b % 2 == 0 :\n",
    "    print(\"'and' 연산 'True'\")"
   ]
  },
  {
   "cell_type": "code",
   "execution_count": 10,
   "metadata": {},
   "outputs": [
    {
     "name": "stdout",
     "output_type": "stream",
     "text": [
      "'or' 연산 'True'\n"
     ]
    }
   ],
   "source": [
    "if a < 0 or b % 2 == 1 :\n",
    "    print(\"'or' 연산 'True'\")"
   ]
  },
  {
   "cell_type": "code",
   "execution_count": 11,
   "metadata": {},
   "outputs": [],
   "source": [
    "if a < 0 and b % 2 == 1 :\n",
    "    print(\"'and' 연산 'True'\")"
   ]
  },
  {
   "cell_type": "code",
   "execution_count": 12,
   "metadata": {},
   "outputs": [],
   "source": [
    "if a > 0 or b % 2 == 1 :\n",
    "    print(\"'or' 연산 'True'\")"
   ]
  },
  {
   "cell_type": "code",
   "execution_count": 13,
   "metadata": {},
   "outputs": [
    {
     "name": "stdout",
     "output_type": "stream",
     "text": [
      "not False는 True를 의미한다.\n"
     ]
    }
   ],
   "source": [
    "if not False :\n",
    "    print('not False는 True를 의미한다.')"
   ]
  },
  {
   "cell_type": "code",
   "execution_count": 14,
   "metadata": {},
   "outputs": [],
   "source": [
    "if not True :\n",
    "    print(\"'not' 연산은 조건을 뒤집을 때 사용한다.\")"
   ]
  },
  {
   "cell_type": "code",
   "execution_count": 15,
   "metadata": {},
   "outputs": [
    {
     "name": "stdout",
     "output_type": "stream",
     "text": [
      "True\n",
      "True\n",
      "False\n"
     ]
    }
   ],
   "source": [
    "print(bool(1.4))\n",
    "print(bool(-210))\n",
    "print(bool(0))   # 0을 넣을 때만 False, 나머지는 True"
   ]
  },
  {
   "cell_type": "code",
   "execution_count": 16,
   "metadata": {},
   "outputs": [
    {
     "name": "stdout",
     "output_type": "stream",
     "text": [
      "False\n",
      "True\n"
     ]
    }
   ],
   "source": [
    "print(bool([]))\n",
    "print(bool([3]))   # 빈 리스트를 넣으면 False, 값이 하나라도 있으면 True"
   ]
  },
  {
   "cell_type": "code",
   "execution_count": 17,
   "metadata": {},
   "outputs": [
    {
     "name": "stdout",
     "output_type": "stream",
     "text": [
      "False\n",
      "False\n",
      "True\n",
      "True\n"
     ]
    }
   ],
   "source": [
    "print(bool(None))\n",
    "print(bool(''))\n",
    "print(bool(' '))   # True, 공백도 문자열로 인식한다.\n",
    "print(bool('hi'))   # None이나 빈 문자열을 넣으면 False, 비어 있지 않은 문자열이 있으면 True"
   ]
  },
  {
   "cell_type": "code",
   "execution_count": 18,
   "metadata": {},
   "outputs": [
    {
     "name": "stdout",
     "output_type": "stream",
     "text": [
      "hi\n"
     ]
    }
   ],
   "source": [
    "if 'hi' :\n",
    "    print('hi')\n",
    "if [] :\n",
    "    print('hello')"
   ]
  },
  {
   "cell_type": "markdown",
   "metadata": {},
   "source": [
    "### else & elif"
   ]
  },
  {
   "cell_type": "code",
   "execution_count": 19,
   "metadata": {},
   "outputs": [
    {
     "name": "stdout",
     "output_type": "stream",
     "text": [
      "졌다...\n"
     ]
    }
   ],
   "source": [
    "scissor = '가위'\n",
    "rock = '바위'\n",
    "paper = '보'\n",
    "\n",
    "win = '이겼다!'\n",
    "draw = '비겼다.'\n",
    "lose = '졌다...'\n",
    "\n",
    "mine = scissor\n",
    "yours = rock\n",
    "\n",
    "if mine == yours :\n",
    "    result = draw\n",
    "else :\n",
    "    if mine == scissor :\n",
    "        if yours == rock :\n",
    "            result = lose\n",
    "        else :\n",
    "            result = win\n",
    "    elif mine == rock :\n",
    "        if yours == scissor :\n",
    "            result = win\n",
    "        else :\n",
    "            result = lose\n",
    "    elif mine == paper :\n",
    "        if yours == scissor :\n",
    "            result = lose\n",
    "        else :\n",
    "            result = win\n",
    "print(result)"
   ]
  },
  {
   "cell_type": "code",
   "execution_count": 20,
   "metadata": {},
   "outputs": [
    {
     "name": "stdout",
     "output_type": "stream",
     "text": [
      "올바른 조명 상태가 아닙니다.\n",
      "적어도 하나의 절이 분명히 실행되기를 원한다면 이 구조를 반드시 else 문으로 마무리 지어야 한다.\n"
     ]
    }
   ],
   "source": [
    "light = 'of'\n",
    "\n",
    "if light == 'on' :\n",
    "    print('조명이 켜졌습니다.')\n",
    "elif light == 'off' :\n",
    "    print('조명이 꺼졌습니다.')\n",
    "else :   # 만약 else 대신 elif를 쓴 경우는 아무 것도 출력되지 않는다.\n",
    "    print('올바른 조명 상태가 아닙니다.')\n",
    "    \n",
    "print('적어도 하나의 절이 분명히 실행되기를 원한다면 이 구조를 반드시 else 문으로 마무리 지어야 한다.')"
   ]
  },
  {
   "cell_type": "code",
   "execution_count": 21,
   "metadata": {},
   "outputs": [
    {
     "name": "stdout",
     "output_type": "stream",
     "text": [
      "5\n",
      "500\n"
     ]
    }
   ],
   "source": [
    "a = 5\n",
    "\n",
    "if a > 0 and a < 10 :\n",
    "    print(a)\n",
    "    \n",
    "if a > 2 and a < 10 :\n",
    "    print(a*100)"
   ]
  },
  {
   "cell_type": "code",
   "execution_count": 22,
   "metadata": {},
   "outputs": [
    {
     "name": "stdout",
     "output_type": "stream",
     "text": [
      "5\n"
     ]
    }
   ],
   "source": [
    "# elif를 쓰면?\n",
    "\n",
    "if a > 0 and a < 10 :\n",
    "    print(a)\n",
    "    \n",
    "elif a > 2 and a < 10 :   # 이 코드는 실행되지 않는다.\n",
    "    print(a*100)"
   ]
  }
 ],
 "metadata": {
  "kernelspec": {
   "display_name": "Python 3",
   "language": "python",
   "name": "python3"
  },
  "language_info": {
   "codemirror_mode": {
    "name": "ipython",
    "version": 3
   },
   "file_extension": ".py",
   "mimetype": "text/x-python",
   "name": "python",
   "nbconvert_exporter": "python",
   "pygments_lexer": "ipython3",
   "version": "3.7.3"
  }
 },
 "nbformat": 4,
 "nbformat_minor": 2
}
