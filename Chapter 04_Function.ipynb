{
 "cells": [
  {
   "cell_type": "markdown",
   "metadata": {},
   "source": [
    "## # Function 기초\n",
    "- 반복되는 코드는 모두 함수화\n",
    "<br><br>\n",
    "- 아래 내용은 module 강의에서 설명하는 것이 좋음\n",
    "- C vs C++ (절차(순차) vs oop)\n",
    "- oop는 협업 가능, 디버깅이 쉬움 / 절차지향적 프로그래밍에 비해서는 느림\n",
    "- TMS 분석 그래프\n",
    "- DI360"
   ]
  },
  {
   "cell_type": "code",
   "execution_count": 1,
   "metadata": {},
   "outputs": [
    {
     "name": "stdout",
     "output_type": "stream",
     "text": [
      "해는 2.0 또는 -4.0\n"
     ]
    }
   ],
   "source": [
    "def root() :\n",
    "    r1 = ( -b + (b ** 2 - 4 * a * c) ** 0.5) / (2 * a)\n",
    "    r2 = ( -b - (b ** 2 - 4 * a * c) ** 0.5) / (2 * a)\n",
    "    print('해는 {} 또는 {}' .format(r1, r2))\n",
    "\n",
    "a = 1\n",
    "b = 2\n",
    "c = -8\n",
    "root()"
   ]
  },
  {
   "cell_type": "code",
   "execution_count": 2,
   "metadata": {},
   "outputs": [
    {
     "name": "stdout",
     "output_type": "stream",
     "text": [
      "해는 4.0 또는 -1.0\n"
     ]
    }
   ],
   "source": [
    "a = 2\n",
    "b = -6\n",
    "c = -8\n",
    "root()"
   ]
  },
  {
   "cell_type": "code",
   "execution_count": 3,
   "metadata": {},
   "outputs": [
    {
     "name": "stdout",
     "output_type": "stream",
     "text": [
      "해는 2.0 또는 -4.0\n"
     ]
    }
   ],
   "source": [
    "def root2(a, b, c) :\n",
    "    r1 = ( -b + (b ** 2 - 4 * a * c) ** 0.5) / (2 * a)\n",
    "    r2 = ( -b - (b ** 2 - 4 * a * c) ** 0.5) / (2 * a)\n",
    "    print('해는 {} 또는 {}' .format(r1, r2))\n",
    "\n",
    "root2(1, 2, -8)"
   ]
  },
  {
   "cell_type": "markdown",
   "metadata": {},
   "source": [
    "## # return"
   ]
  },
  {
   "cell_type": "code",
   "execution_count": 4,
   "metadata": {},
   "outputs": [
    {
     "name": "stdout",
     "output_type": "stream",
     "text": [
      "35\n"
     ]
    }
   ],
   "source": [
    "def add_10(a) :\n",
    "    result = a + 10\n",
    "    return result\n",
    "\n",
    "print(add_10(25))"
   ]
  },
  {
   "cell_type": "code",
   "execution_count": 5,
   "metadata": {},
   "outputs": [
    {
     "name": "stdout",
     "output_type": "stream",
     "text": [
      "10\n",
      "function에서 return은 실행된 즉시 함수 실행을 끝내버림, 즉, return 이후의 코드는 실행되지 않음\n"
     ]
    }
   ],
   "source": [
    "def add_10_2(a) :\n",
    "    return 10\n",
    "    result = a + 10\n",
    "    return result\n",
    "\n",
    "print(add_10_2(25))\n",
    "print('function에서 return은 실행된 즉시 함수 실행을 끝내버림, 즉, return 이후의 코드는 실행되지 않음')"
   ]
  },
  {
   "cell_type": "code",
   "execution_count": 6,
   "metadata": {},
   "outputs": [
    {
     "name": "stdout",
     "output_type": "stream",
     "text": [
      "35\n",
      "5\n"
     ]
    }
   ],
   "source": [
    "def add_10_3(a) :\n",
    "    if a < 10 :\n",
    "        return a\n",
    "    result = a + 10\n",
    "    return result\n",
    "\n",
    "print(add_10_3(25))\n",
    "print(add_10_3(5))"
   ]
  },
  {
   "cell_type": "code",
   "execution_count": 7,
   "metadata": {},
   "outputs": [
    {
     "name": "stdout",
     "output_type": "stream",
     "text": [
      "답은 35\n"
     ]
    }
   ],
   "source": [
    "r = add_10(25)\n",
    "print('답은 {}'.format(r))"
   ]
  },
  {
   "cell_type": "code",
   "execution_count": 8,
   "metadata": {},
   "outputs": [
    {
     "name": "stdout",
     "output_type": "stream",
     "text": [
      "근은 2.0 또는 -4.0\n"
     ]
    }
   ],
   "source": [
    "def root3(a, b, c) :\n",
    "    r1 = ( -b + (b ** 2 - 4 * a * c) ** 0.5) / (2 * a)\n",
    "    r2 = ( -b - (b ** 2 - 4 * a * c) ** 0.5) / (2 * a)\n",
    "    return r1, r2\n",
    "\n",
    "r1, r2 = root3(1, 2 , -8)\n",
    "print('근은 {} 또는 {}'.format(r1, r2))"
   ]
  },
  {
   "cell_type": "code",
   "execution_count": 9,
   "metadata": {},
   "outputs": [
    {
     "name": "stdout",
     "output_type": "stream",
     "text": [
      "None\n",
      "함수에서 return 값이 없는 경우는 print해도 none이 뜬다.\n",
      "[11, 12, 13, 14, 15]\n"
     ]
    }
   ],
   "source": [
    "def list_sort(a) :\n",
    "    n = len(a)\n",
    "    for i in range(1, n) :\n",
    "        key = a[i]\n",
    "        j = i - 1\n",
    "        while j >= 0 and a[j] > key :\n",
    "            a[j+1] = a[j]\n",
    "            j -= 1\n",
    "        a[j+1] = key\n",
    "\n",
    "c = [12, 15, 14, 11, 13]\n",
    "print(list_sort(c))\n",
    "print('함수에서 return 값이 없는 경우는 print해도 none이 뜬다.')\n",
    "list_sort(c)\n",
    "print(c)"
   ]
  },
  {
   "cell_type": "code",
   "execution_count": null,
   "metadata": {},
   "outputs": [],
   "source": []
  }
 ],
 "metadata": {
  "kernelspec": {
   "display_name": "Python 3",
   "language": "python",
   "name": "python3"
  },
  "language_info": {
   "codemirror_mode": {
    "name": "ipython",
    "version": 3
   },
   "file_extension": ".py",
   "mimetype": "text/x-python",
   "name": "python",
   "nbconvert_exporter": "python",
   "pygments_lexer": "ipython3",
   "version": "3.7.3"
  }
 },
 "nbformat": 4,
 "nbformat_minor": 2
}
