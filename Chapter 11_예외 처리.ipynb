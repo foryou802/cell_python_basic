{
 "cells": [
  {
   "cell_type": "markdown",
   "metadata": {},
   "source": [
    "## # try & except"
   ]
  },
  {
   "cell_type": "code",
   "execution_count": 1,
   "metadata": {},
   "outputs": [],
   "source": [
    "text = '100%'"
   ]
  },
  {
   "cell_type": "code",
   "execution_count": 2,
   "metadata": {},
   "outputs": [],
   "source": [
    "# number = int(text)   # 에러가 발생"
   ]
  },
  {
   "cell_type": "code",
   "execution_count": 3,
   "metadata": {},
   "outputs": [
    {
     "name": "stdout",
     "output_type": "stream",
     "text": [
      "100%는 숫자가 아니에요.\n"
     ]
    }
   ],
   "source": [
    "try :\n",
    "    number = int(text)\n",
    "except ValueError :\n",
    "    print('{}는 숫자가 아니에요.' .format(text))"
   ]
  },
  {
   "cell_type": "code",
   "execution_count": 4,
   "metadata": {},
   "outputs": [],
   "source": [
    "def safe_pop(a, x) :\n",
    "    try :\n",
    "        print(a.pop(x))\n",
    "    except :   # error 이름을 모르면 표시하여 주지 않아도 됨\n",
    "        print('{} index의 값을 가져올 수 없습니다.' .format(x))"
   ]
  },
  {
   "cell_type": "code",
   "execution_count": 5,
   "metadata": {},
   "outputs": [
    {
     "name": "stdout",
     "output_type": "stream",
     "text": [
      "2\n",
      "5 index의 값을 가져올 수 없습니다.\n",
      "1\n"
     ]
    }
   ],
   "source": [
    "list = [1, 2, 3]\n",
    "safe_pop(list, 1)\n",
    "safe_pop(list, 5)   # 에러를 잡아냄\n",
    "safe_pop(list, 0)   # 위의 코드에서 에러가 발생했지만, 예외 처리를 했기 때문에 멈추기 않고, 이 코드는 실행됨"
   ]
  },
  {
   "cell_type": "code",
   "execution_count": 6,
   "metadata": {},
   "outputs": [
    {
     "name": "stdout",
     "output_type": "stream",
     "text": [
      "오류가 발생\n"
     ]
    }
   ],
   "source": [
    "try :\n",
    "    list = []\n",
    "    print(list[0])\n",
    "\n",
    "    text = '100%'\n",
    "    number = int(text)\n",
    "except :\n",
    "    print('오류가 발생')   # 한 번에 오류 처리를 할 수 있지만, 어디서 오류가 났는지 모름. 이때는 아래와 같이 한다"
   ]
  },
  {
   "cell_type": "code",
   "execution_count": 7,
   "metadata": {},
   "outputs": [
    {
     "name": "stdout",
     "output_type": "stream",
     "text": [
      "오류가 발생 list index out of range\n"
     ]
    }
   ],
   "source": [
    "try :\n",
    "    list = []\n",
    "    print(list[0])\n",
    "\n",
    "    text = '100%'\n",
    "    number = int(text)\n",
    "except Exception as ex :\n",
    "    print('오류가 발생', ex)"
   ]
  },
  {
   "cell_type": "markdown",
   "metadata": {},
   "source": [
    "파이썬에서는 Exception은 모든 예외의 상위 예외이다. <br>\n",
    "편할 수 있지만, 상위 예외 이름써서 하위 예외를 잡으면 의도하지 않은 예외까지 함꼐 잡기 때문에 <br>\n",
    "디버깅시 어려움이 따른다. <br>\n",
    "의도한게 아니라면 쓰지 않는 게 좋다. <br>"
   ]
  },
  {
   "cell_type": "code",
   "execution_count": 8,
   "metadata": {},
   "outputs": [
    {
     "name": "stdout",
     "output_type": "stream",
     "text": [
      "1\n",
      "오류가 발생 invalid literal for int() with base 10: '100%'\n"
     ]
    }
   ],
   "source": [
    "try :\n",
    "    list = [1]\n",
    "    print(list[0])   # 오류 없이 실행됨\n",
    "\n",
    "    text = '100%'\n",
    "    number = int(text)\n",
    "except Exception as ex:\n",
    "    print('오류가 발생', ex)"
   ]
  },
  {
   "cell_type": "markdown",
   "metadata": {},
   "source": [
    "## # raise"
   ]
  },
  {
   "cell_type": "code",
   "execution_count": 9,
   "metadata": {},
   "outputs": [],
   "source": [
    "def rsp(mine, yours) :\n",
    "    allowed = ['가위', '바위', '보']\n",
    "    if mine not in allowed :\n",
    "        raise ValueError\n",
    "    if yours not in allowed :\n",
    "        raise ValueError"
   ]
  },
  {
   "cell_type": "code",
   "execution_count": 10,
   "metadata": {},
   "outputs": [],
   "source": [
    "# rsp('가위', '바')   # error를 일으킴"
   ]
  },
  {
   "cell_type": "code",
   "execution_count": 11,
   "metadata": {},
   "outputs": [
    {
     "name": "stdout",
     "output_type": "stream",
     "text": [
      "잘못된 값 입력\n"
     ]
    }
   ],
   "source": [
    "try :\n",
    "    rsp('가위', '바')\n",
    "except :\n",
    "    print('잘못된 값 입력')"
   ]
  },
  {
   "cell_type": "code",
   "execution_count": 12,
   "metadata": {},
   "outputs": [],
   "source": [
    "def rsp(mine, yours) :\n",
    "    allowed = ['가위', '바위', '보']\n",
    "    if mine not in allowed :\n",
    "        raise ValueError(\"'가위', '바위', '보' 중 하나의 값만 입력 가능\")   # value 에러 내용을 설명해줌\n",
    "    if yours not in allowed :\n",
    "        raise ValueError(\"'가위', '바위', '보' 중 하나의 값만 입력 가능\")"
   ]
  },
  {
   "cell_type": "code",
   "execution_count": 13,
   "metadata": {},
   "outputs": [],
   "source": [
    "# rsp('가위', '바')"
   ]
  },
  {
   "cell_type": "markdown",
   "metadata": {},
   "source": [
    "### StopIteration"
   ]
  },
  {
   "cell_type": "code",
   "execution_count": 14,
   "metadata": {},
   "outputs": [
    {
     "name": "stdout",
     "output_type": "stream",
     "text": [
      "1반 에 190이 넘는 학생이 존재\n",
      "2반 에 190이 넘는 학생이 존재\n"
     ]
    }
   ],
   "source": [
    "classroom = {'1반' : [162, 175, 181, 195], '2반' : [165, 192, 187]}\n",
    "\n",
    "for class_id, heights in classroom.items() :\n",
    "    for i in heights :\n",
    "        if i > 190 :\n",
    "            print(class_id, '에 190이 넘는 학생이 존재')\n",
    "            break   # 이 때 break는 하위 for 구문을 break 해주지만, 상위 for은 계속 반복 된다."
   ]
  },
  {
   "cell_type": "code",
   "execution_count": 15,
   "metadata": {},
   "outputs": [
    {
     "name": "stdout",
     "output_type": "stream",
     "text": [
      "1반 에 190이 넘는 학생이 존재\n",
      "정상 종료\n"
     ]
    }
   ],
   "source": [
    "try :\n",
    "    for class_id, heights in classroom.items() :\n",
    "        for i in heights :\n",
    "            if i > 190 :\n",
    "                print(class_id, '에 190이 넘는 학생이 존재')\n",
    "                raise StopIteration\n",
    "except :\n",
    "    print('정상 종료')"
   ]
  },
  {
   "cell_type": "code",
   "execution_count": 16,
   "metadata": {},
   "outputs": [
    {
     "name": "stdout",
     "output_type": "stream",
     "text": [
      "1반 에 190이 넘는 학생이 존재\n"
     ]
    }
   ],
   "source": [
    "try :\n",
    "    for class_id, heights in classroom.items() :\n",
    "        for i in heights :\n",
    "            if i > 190 :\n",
    "                print(class_id, '에 190이 넘는 학생이 존재')\n",
    "                raise StopIteration\n",
    "except :\n",
    "    pass"
   ]
  },
  {
   "cell_type": "markdown",
   "metadata": {},
   "source": [
    "## # 내 예외 만들기"
   ]
  },
  {
   "cell_type": "code",
   "execution_count": 17,
   "metadata": {},
   "outputs": [
    {
     "name": "stdout",
     "output_type": "stream",
     "text": [
      "잘못된 값 입력\n"
     ]
    }
   ],
   "source": [
    "value = '가'\n",
    "allowed = ['가위', '바위', '보']\n",
    "\n",
    "try :\n",
    "    if value not in allowed :\n",
    "        raise ValueError(\"'가위', '바위', '보' 중 하나의 값만 입력 가능\")\n",
    "except ValueError :\n",
    "    print('잘못된 값 입력')   # 기존에 존재하는 ValueError를 일으킴"
   ]
  },
  {
   "cell_type": "code",
   "execution_count": 18,
   "metadata": {},
   "outputs": [],
   "source": [
    "class UnexpectedRSPValue(Exception) :\n",
    "    pass"
   ]
  },
  {
   "cell_type": "code",
   "execution_count": 19,
   "metadata": {},
   "outputs": [
    {
     "name": "stdout",
     "output_type": "stream",
     "text": [
      "오류가 발생! 다르지?!\n"
     ]
    }
   ],
   "source": [
    "value = '가'\n",
    "allowed = ['가위', '바위', '보']\n",
    "\n",
    "try :\n",
    "    if value not in allowed :\n",
    "        raise UnexpectedRSPValue\n",
    "except UnexpectedRSPValue :\n",
    "    print('오류가 발생! 다르지?!')\n",
    "#     raise   # 잡은 예외를 일으킴"
   ]
  }
 ],
 "metadata": {
  "kernelspec": {
   "display_name": "Python 3",
   "language": "python",
   "name": "python3"
  },
  "language_info": {
   "codemirror_mode": {
    "name": "ipython",
    "version": 3
   },
   "file_extension": ".py",
   "mimetype": "text/x-python",
   "name": "python",
   "nbconvert_exporter": "python",
   "pygments_lexer": "ipython3",
   "version": "3.7.3"
  }
 },
 "nbformat": 4,
 "nbformat_minor": 2
}
