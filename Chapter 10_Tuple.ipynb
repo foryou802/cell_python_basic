{
 "cells": [
  {
   "cell_type": "markdown",
   "metadata": {},
   "source": [
    "## # Tuple 기초"
   ]
  },
  {
   "cell_type": "code",
   "execution_count": 1,
   "metadata": {},
   "outputs": [
    {
     "name": "stdout",
     "output_type": "stream",
     "text": [
      "<class 'tuple'>\n"
     ]
    }
   ],
   "source": [
    "tuple1 = (1, 2, 3)\n",
    "print(type(tuple1))   # type() 함수는 변수의 자료형을 반환합니다."
   ]
  },
  {
   "cell_type": "code",
   "execution_count": 2,
   "metadata": {},
   "outputs": [
    {
     "name": "stdout",
     "output_type": "stream",
     "text": [
      "<class 'tuple'>\n"
     ]
    }
   ],
   "source": [
    "tuple2 = 1, 2, 4\n",
    "print(type(tuple2))\n",
    "# 괄호가 없어도 튜플로 인식하지만, 괄호를 사용하면 튜플이라는 것이 더욱 명확해진다."
   ]
  },
  {
   "cell_type": "code",
   "execution_count": 3,
   "metadata": {},
   "outputs": [
    {
     "name": "stdout",
     "output_type": "stream",
     "text": [
      "<class 'tuple'>\n",
      "<class 'int'>\n",
      "<class 'int'>\n",
      "<class 'tuple'>\n"
     ]
    }
   ],
   "source": [
    "a = 1,   # 요소가 하나일 때는 뒤에 콤마를 넣어주어야 튜플로 인식한다.\n",
    "b = 2\n",
    "c = (3)\n",
    "d = (4,)\n",
    "print(type(a))\n",
    "print(type(b))\n",
    "print(type(c))\n",
    "print(type(d))"
   ]
  },
  {
   "cell_type": "code",
   "execution_count": 4,
   "metadata": {},
   "outputs": [
    {
     "name": "stdout",
     "output_type": "stream",
     "text": [
      "(1, 2, 3)\n"
     ]
    }
   ],
   "source": [
    "list1 = [1, 2, 3]\n",
    "tuple1 = tuple(list1)\n",
    "print(tuple1)"
   ]
  },
  {
   "cell_type": "code",
   "execution_count": 5,
   "metadata": {},
   "outputs": [
    {
     "name": "stdout",
     "output_type": "stream",
     "text": [
      "[1, 2, 3]\n"
     ]
    }
   ],
   "source": [
    "list2 = list((1, 2, 3))\n",
    "print(list2)"
   ]
  },
  {
   "cell_type": "code",
   "execution_count": 6,
   "metadata": {},
   "outputs": [
    {
     "name": "stdout",
     "output_type": "stream",
     "text": [
      "2\n"
     ]
    }
   ],
   "source": [
    "print(tuple1[1])"
   ]
  },
  {
   "cell_type": "markdown",
   "metadata": {},
   "source": [
    "- \"tuple1[0] = 5\" 처럼 리스트처럼 튜플은 값을 바꿀 수 없다.\n",
    "- 튜플은 값을 지울 수도 없다."
   ]
  },
  {
   "cell_type": "code",
   "execution_count": 7,
   "metadata": {},
   "outputs": [
    {
     "name": "stdout",
     "output_type": "stream",
     "text": [
      "(4, 5, 6, 7)\n"
     ]
    }
   ],
   "source": [
    "tuple1 = (4, 5, 6, 7)\n",
    "print(tuple1)"
   ]
  },
  {
   "cell_type": "markdown",
   "metadata": {},
   "source": [
    "- 튜플을 수정하려면, 아예 재수정을 해야한다."
   ]
  },
  {
   "cell_type": "code",
   "execution_count": 8,
   "metadata": {},
   "outputs": [
    {
     "name": "stdout",
     "output_type": "stream",
     "text": [
      "4\n"
     ]
    }
   ],
   "source": [
    "n = len(tuple1)\n",
    "print(n)"
   ]
  },
  {
   "cell_type": "markdown",
   "metadata": {},
   "source": [
    "## # Packing & unpacking"
   ]
  },
  {
   "cell_type": "code",
   "execution_count": 9,
   "metadata": {},
   "outputs": [
    {
     "name": "stdout",
     "output_type": "stream",
     "text": [
      "a = 1, b = 2\n"
     ]
    }
   ],
   "source": [
    "a, b = 1, 2\n",
    "print('a = {}, b = {}' .format(a, b))"
   ]
  },
  {
   "cell_type": "code",
   "execution_count": 10,
   "metadata": {},
   "outputs": [
    {
     "name": "stdout",
     "output_type": "stream",
     "text": [
      "4\n"
     ]
    }
   ],
   "source": [
    "c = (3, 4)\n",
    "print(c[1])"
   ]
  },
  {
   "cell_type": "code",
   "execution_count": 11,
   "metadata": {},
   "outputs": [
    {
     "name": "stdout",
     "output_type": "stream",
     "text": [
      "d = 3, e = 4\n",
      "type(d) = <class 'int'>\n"
     ]
    }
   ],
   "source": [
    "d, e = c\n",
    "print('d = {}, e = {}' .format(d, e))\n",
    "print('type(d) =', type(d))"
   ]
  },
  {
   "cell_type": "markdown",
   "metadata": {},
   "source": [
    "- 튜플 뿐만 아니라, 리스트도 이렇게 unpacking을 통해 한꺼번에 값을 할당해줄 수 있다.\n",
    "- 단, 변수의 개수와 튜플 또는 리스트의 길이가 같아야 된다. 같지 않으면 에러가 난다."
   ]
  },
  {
   "cell_type": "code",
   "execution_count": 12,
   "metadata": {},
   "outputs": [
    {
     "name": "stdout",
     "output_type": "stream",
     "text": [
      "f = (3, 4)\n",
      "type(f) = <class 'tuple'>\n"
     ]
    }
   ],
   "source": [
    "f = d, e\n",
    "print('f = {}' .format(f))\n",
    "print('type(f) =', type(f))"
   ]
  },
  {
   "cell_type": "code",
   "execution_count": 13,
   "metadata": {},
   "outputs": [
    {
     "name": "stdout",
     "output_type": "stream",
     "text": [
      "x = 20, y = 10\n"
     ]
    }
   ],
   "source": [
    "x = 10\n",
    "y = 20\n",
    "x, y = y, x\n",
    "print('x = {}, y = {}' .format(x, y))"
   ]
  },
  {
   "cell_type": "markdown",
   "metadata": {},
   "source": [
    "## # Tuple을 이용한 함수의 반환값"
   ]
  },
  {
   "cell_type": "code",
   "execution_count": 14,
   "metadata": {},
   "outputs": [
    {
     "name": "stdout",
     "output_type": "stream",
     "text": [
      "h = 1, i = 2\n",
      "type(h) = <class 'int'>\n"
     ]
    }
   ],
   "source": [
    "def tuple() :\n",
    "    return 1, 2\n",
    "\n",
    "h, i = tuple()\n",
    "print('h = {}, i = {}' .format(h, i))\n",
    "print('type(h) =', type(h))"
   ]
  },
  {
   "cell_type": "code",
   "execution_count": 15,
   "metadata": {},
   "outputs": [
    {
     "name": "stdout",
     "output_type": "stream",
     "text": [
      "r = (1, 2)\n",
      "type(r) = <class 'tuple'>\n"
     ]
    }
   ],
   "source": [
    "r = tuple()\n",
    "print('r = {}' .format(r))\n",
    "print('type(r) =', type(r))"
   ]
  },
  {
   "cell_type": "code",
   "execution_count": 16,
   "metadata": {},
   "outputs": [
    {
     "name": "stdout",
     "output_type": "stream",
     "text": [
      "10번 값 : 1\n",
      "11번 값 : 2\n",
      "12번 값 : 3\n",
      "13번 값 : 4\n"
     ]
    }
   ],
   "source": [
    "list = [1, 2, 3, 4]\n",
    "\n",
    "for a in enumerate(list) :\n",
    "    print('{}번 값 : {}' .format(a[0]+10, a[1]))"
   ]
  },
  {
   "cell_type": "code",
   "execution_count": 17,
   "metadata": {},
   "outputs": [
    {
     "name": "stdout",
     "output_type": "stream",
     "text": [
      "0번 값 : 5\n",
      "1번 값 : 6\n",
      "2번 값 : 7\n",
      "3번 값 : 8\n"
     ]
    }
   ],
   "source": [
    "list = [5, 6, 7, 8]\n",
    "for a in enumerate(list) :\n",
    "    print('{}번 값 : {}' .format(*a))"
   ]
  },
  {
   "cell_type": "code",
   "execution_count": 18,
   "metadata": {},
   "outputs": [
    {
     "name": "stdout",
     "output_type": "stream",
     "text": [
      "Tod의 나이는 35\n",
      "Jane의 나이는 25\n",
      "Mason의 나이는 31\n"
     ]
    }
   ],
   "source": [
    "age = {'Tod' : 35, 'Jane' : 25, 'Mason' : 31}\n",
    "\n",
    "for a in age.items() :\n",
    "    print('{}의 나이는 {}' .format(a[0], a[1]))"
   ]
  },
  {
   "cell_type": "code",
   "execution_count": 19,
   "metadata": {},
   "outputs": [
    {
     "name": "stdout",
     "output_type": "stream",
     "text": [
      "Tod의 나이는 35\n",
      "Jane의 나이는 25\n",
      "Mason의 나이는 31\n"
     ]
    }
   ],
   "source": [
    "for a in age.items() :\n",
    "    print('{}의 나이는 {}' .format(*a))"
   ]
  },
  {
   "cell_type": "markdown",
   "metadata": {},
   "source": [
    "## # Tuple을 이용한 loop"
   ]
  },
  {
   "cell_type": "code",
   "execution_count": 20,
   "metadata": {},
   "outputs": [
    {
     "name": "stdout",
     "output_type": "stream",
     "text": [
      "2.0\n",
      "5.0\n"
     ]
    }
   ],
   "source": [
    "number = [(4, 2), (15, 3)]\n",
    "for a, b in number :\n",
    "    n = a / b\n",
    "    print(n)"
   ]
  }
 ],
 "metadata": {
  "kernelspec": {
   "display_name": "Python 3",
   "language": "python",
   "name": "python3"
  },
  "language_info": {
   "codemirror_mode": {
    "name": "ipython",
    "version": 3
   },
   "file_extension": ".py",
   "mimetype": "text/x-python",
   "name": "python",
   "nbconvert_exporter": "python",
   "pygments_lexer": "ipython3",
   "version": "3.7.3"
  }
 },
 "nbformat": 4,
 "nbformat_minor": 2
}
