{
 "cells": [
  {
   "cell_type": "code",
   "execution_count": 1,
   "metadata": {},
   "outputs": [],
   "source": [
    "scissor = '가위'\n",
    "rock = '바위'\n",
    "paper = '보'\n",
    "\n",
    "win = '이겼다!!'\n",
    "draw = '비겼다'\n",
    "lose = '졌네...'"
   ]
  },
  {
   "cell_type": "code",
   "execution_count": 2,
   "metadata": {},
   "outputs": [],
   "source": [
    "mine = paper\n",
    "yours = paper"
   ]
  },
  {
   "cell_type": "code",
   "execution_count": 3,
   "metadata": {},
   "outputs": [
    {
     "name": "stdout",
     "output_type": "stream",
     "text": [
      "비겼다\n"
     ]
    }
   ],
   "source": [
    "if mine == yours :\n",
    "    print(draw)\n",
    "else :\n",
    "    if mine == scissor :\n",
    "        if yours == rock :\n",
    "            print(lose)\n",
    "        else :\n",
    "            print(win)\n",
    "    elif mine == rock :\n",
    "        if yours == paper :\n",
    "            print(lose)\n",
    "        else :\n",
    "            print(win)\n",
    "    else :\n",
    "        if your == scissor :\n",
    "            print(lose)\n",
    "        else :\n",
    "            print(win)"
   ]
  },
  {
   "cell_type": "markdown",
   "metadata": {},
   "source": [
    "### 조건문 사용"
   ]
  },
  {
   "cell_type": "code",
   "execution_count": 4,
   "metadata": {},
   "outputs": [],
   "source": [
    "pq_max = {\n",
    "    's' : [4.1, 18.07],\n",
    "    'c' : [21.44, 18.1],\n",
    "    'f' : [102.59, 4.61],\n",
    "    'f2' : [209.85, 3.64]\n",
    "     }"
   ]
  },
  {
   "cell_type": "code",
   "execution_count": 5,
   "metadata": {},
   "outputs": [],
   "source": [
    "x1 = 4.1\n",
    "y1 = 18.07\n",
    "x2 = 21.44\n",
    "y2 = 18.1\n",
    "x3 = 102.59\n",
    "y3 = 4.61\n",
    "x4 = 209.85\n",
    "y4 = 3.64"
   ]
  },
  {
   "cell_type": "code",
   "execution_count": 6,
   "metadata": {},
   "outputs": [],
   "source": [
    "x = 100"
   ]
  },
  {
   "cell_type": "code",
   "execution_count": 7,
   "metadata": {},
   "outputs": [
    {
     "name": "stdout",
     "output_type": "stream",
     "text": [
      "5.040549599507084\n"
     ]
    }
   ],
   "source": [
    "if x < x1 :\n",
    "    y = y1\n",
    "elif x1 <= x < x2 :\n",
    "    y = (y2 - y1)/(x2 - x1) * (x - x1) + y1\n",
    "elif x2 <= x < x3 :\n",
    "    y = (y3 - y2)/(x3 - x2) * (x - x2) + y2\n",
    "elif x3 <= x <= x4 :\n",
    "    y = (y4 - y3)/(x4 - x3) * (x - x3) + y3\n",
    "else :\n",
    "    y = y4\n",
    "\n",
    "print(y)"
   ]
  },
  {
   "cell_type": "markdown",
   "metadata": {},
   "source": [
    "### 함수 사용"
   ]
  },
  {
   "cell_type": "code",
   "execution_count": 8,
   "metadata": {},
   "outputs": [],
   "source": [
    "x1 = 4.1\n",
    "y1 = 18.07\n",
    "x2 = 21.44\n",
    "y2 = 18.1\n",
    "x3 = 102.59\n",
    "y3 = 4.61\n",
    "x4 = 209.85\n",
    "y4 = 3.64"
   ]
  },
  {
   "cell_type": "code",
   "execution_count": 9,
   "metadata": {},
   "outputs": [],
   "source": [
    "def find_y(x, x1, y1, x2, y2) :\n",
    "    y = (y2 - y1)/(x2 - x1) * (x - x1) + y1\n",
    "    return y"
   ]
  },
  {
   "cell_type": "code",
   "execution_count": 10,
   "metadata": {},
   "outputs": [],
   "source": [
    "def find_q(x, x1, y1, x2, y2, x3, y3, x4, y4) :\n",
    "    if x < x1 :\n",
    "        y = y1\n",
    "    elif x1 <= x < x2 :\n",
    "        y = find_y(x, x1, y1, x2, y2)\n",
    "    elif x2 <= x < x3 :\n",
    "        y = find_y(x, x2, y2, x3, y3)\n",
    "    elif x3 <= x <= x4 :\n",
    "        y = find_y(x, x3, y3, x4, y4)\n",
    "    else :\n",
    "        y = y4\n",
    "    \n",
    "    return y"
   ]
  },
  {
   "cell_type": "code",
   "execution_count": 11,
   "metadata": {},
   "outputs": [],
   "source": [
    "y1 = find_q(50, x1, y1, x2, y2, x3, y3, x4, y4)\n",
    "y2 = find_q(100, x1, y1, x2, y2, x3, y3, x4, y4)\n",
    "y3 = find_q(150, x1, y1, x2, y2, x3, y3, x4, y4)"
   ]
  },
  {
   "cell_type": "code",
   "execution_count": 12,
   "metadata": {},
   "outputs": [
    {
     "name": "stdout",
     "output_type": "stream",
     "text": [
      "22.57411776234529\n"
     ]
    }
   ],
   "source": [
    "print(y1 + y2 + y3)"
   ]
  },
  {
   "cell_type": "code",
   "execution_count": 13,
   "metadata": {},
   "outputs": [],
   "source": [
    "def find_q2(x) :\n",
    "    if x < x1 :\n",
    "        y = y1\n",
    "    elif x1 <= x < x2 :\n",
    "        y = find_y(x, x1, y1, x2, y2)\n",
    "    elif x2 <= x < x3 :\n",
    "        y = find_y(x, x2, y2, x3, y3)\n",
    "    elif x3 <= x <= x4 :\n",
    "        y = find_y(x, x3, y3, x4, y4)\n",
    "    else :\n",
    "        y = y4\n",
    "    \n",
    "    return y"
   ]
  },
  {
   "cell_type": "code",
   "execution_count": 14,
   "metadata": {},
   "outputs": [],
   "source": [
    "y1 = find_q2(50)\n",
    "y2 = find_q2(100)\n",
    "y3 = find_q2(150)"
   ]
  },
  {
   "cell_type": "code",
   "execution_count": 15,
   "metadata": {},
   "outputs": [
    {
     "name": "stdout",
     "output_type": "stream",
     "text": [
      "12.888815037492693\n"
     ]
    }
   ],
   "source": [
    "print(y1 + y2 + y3)"
   ]
  },
  {
   "cell_type": "markdown",
   "metadata": {},
   "source": [
    "### List 사용"
   ]
  },
  {
   "cell_type": "code",
   "execution_count": null,
   "metadata": {},
   "outputs": [],
   "source": []
  }
 ],
 "metadata": {
  "kernelspec": {
   "display_name": "Python 3",
   "language": "python",
   "name": "python3"
  },
  "language_info": {
   "codemirror_mode": {
    "name": "ipython",
    "version": 3
   },
   "file_extension": ".py",
   "mimetype": "text/x-python",
   "name": "python",
   "nbconvert_exporter": "python",
   "pygments_lexer": "ipython3",
   "version": "3.7.3"
  }
 },
 "nbformat": 4,
 "nbformat_minor": 2
}
