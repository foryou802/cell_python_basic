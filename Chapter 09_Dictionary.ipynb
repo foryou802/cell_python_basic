{
 "cells": [
  {
   "cell_type": "markdown",
   "metadata": {},
   "source": [
    "## # Dictionary 기초\n",
    "- key, vaule 설명 먼저 하기"
   ]
  },
  {
   "cell_type": "code",
   "execution_count": 1,
   "metadata": {},
   "outputs": [],
   "source": [
    "d = {}\n",
    "e = dict()   # 아무 것도 들어있지 않는 빈 딕셔너리 만들기"
   ]
  },
  {
   "cell_type": "code",
   "execution_count": 2,
   "metadata": {},
   "outputs": [
    {
     "name": "stdout",
     "output_type": "stream",
     "text": [
      "22\n"
     ]
    }
   ],
   "source": [
    "num = {\n",
    "    1 : 11,\n",
    "    2 : 22,\n",
    "    3 : 33\n",
    "}\n",
    "print(num[2])"
   ]
  },
  {
   "cell_type": "code",
   "execution_count": 3,
   "metadata": {},
   "outputs": [
    {
     "name": "stdout",
     "output_type": "stream",
     "text": [
      "[1, 2, 3]\n"
     ]
    }
   ],
   "source": [
    "dict = {\n",
    "    'list1' : [1, 2, 3],\n",
    "    'list2' : [4, 5],\n",
    "    'list3' : [7, 8],\n",
    "    'list4' : [9]\n",
    "}\n",
    "print(dict['list1'])"
   ]
  },
  {
   "cell_type": "code",
   "execution_count": 4,
   "metadata": {},
   "outputs": [
    {
     "name": "stdout",
     "output_type": "stream",
     "text": [
      "{'list1': [1, 2, 3], 'list2': [4, 5], 'list3': [7, 8], 'list4': [9]}\n"
     ]
    }
   ],
   "source": [
    "print(dict) # dictionary를 print하면 무작위 순서로 나온다."
   ]
  },
  {
   "cell_type": "code",
   "execution_count": 5,
   "metadata": {},
   "outputs": [
    {
     "name": "stdout",
     "output_type": "stream",
     "text": [
      "이겼다!\n"
     ]
    }
   ],
   "source": [
    "message = {\n",
    "    'win' : '이겼다!',\n",
    "    'lose' : '졌네...',\n",
    "    'draw' : '비겼다.'\n",
    "}\n",
    "print(message['win'])"
   ]
  },
  {
   "cell_type": "code",
   "execution_count": 6,
   "metadata": {},
   "outputs": [
    {
     "name": "stdout",
     "output_type": "stream",
     "text": [
      "dict_keys([1, 2, 3])\n",
      "dict_values([11, 22, 33])\n"
     ]
    }
   ],
   "source": [
    "print(num.keys())\n",
    "print(num.values())"
   ]
  },
  {
   "cell_type": "code",
   "execution_count": 7,
   "metadata": {},
   "outputs": [
    {
     "name": "stdout",
     "output_type": "stream",
     "text": [
      "key list : [1, 2, 3]\n",
      "value list : [11, 22, 33]\n"
     ]
    }
   ],
   "source": [
    "a = list(num.keys())   # 반드시 복수형을 써야한다.\n",
    "b = list(num.values())\n",
    "print('key list :', a)\n",
    "print('value list :', b)"
   ]
  },
  {
   "cell_type": "code",
   "execution_count": 8,
   "metadata": {},
   "outputs": [
    {
     "name": "stdout",
     "output_type": "stream",
     "text": [
      "{'one': 11, 'two': 2}\n"
     ]
    }
   ],
   "source": [
    "dict = {'one' : 1, 'two' : 2}\n",
    "dict['one'] = 11\n",
    "print(dict)"
   ]
  },
  {
   "cell_type": "code",
   "execution_count": 9,
   "metadata": {},
   "outputs": [
    {
     "name": "stdout",
     "output_type": "stream",
     "text": [
      "{'one': 11, 'two': 2, 'three': 3}\n"
     ]
    }
   ],
   "source": [
    "dict['three'] = 3   # dictionary에 추가\n",
    "print(dict)"
   ]
  },
  {
   "cell_type": "markdown",
   "metadata": {},
   "source": [
    "## # Dictionary method & 기타 기능"
   ]
  },
  {
   "cell_type": "code",
   "execution_count": 10,
   "metadata": {},
   "outputs": [
    {
     "name": "stdout",
     "output_type": "stream",
     "text": [
      "len(num) = 3\n"
     ]
    }
   ],
   "source": [
    "n = len(num)\n",
    "print('len(num) = {}' .format(n))"
   ]
  },
  {
   "cell_type": "code",
   "execution_count": 11,
   "metadata": {},
   "outputs": [
    {
     "name": "stdout",
     "output_type": "stream",
     "text": [
      "{'two': 2, 'three': 3}\n"
     ]
    }
   ],
   "source": [
    "del(dict['one'])\n",
    "print(dict)"
   ]
  },
  {
   "cell_type": "code",
   "execution_count": 12,
   "metadata": {},
   "outputs": [
    {
     "name": "stdout",
     "output_type": "stream",
     "text": [
      "2\n",
      "{'three': 3}\n"
     ]
    }
   ],
   "source": [
    "a = dict.pop('two')   # list의 pop 기능과 마찬가지로 빠지는 값을 받아낸다.\n",
    "print(a)\n",
    "print(dict)"
   ]
  },
  {
   "cell_type": "code",
   "execution_count": 13,
   "metadata": {},
   "outputs": [
    {
     "name": "stdout",
     "output_type": "stream",
     "text": [
      "{}\n"
     ]
    }
   ],
   "source": [
    "dict.clear()\n",
    "print(dict)"
   ]
  },
  {
   "cell_type": "code",
   "execution_count": 14,
   "metadata": {},
   "outputs": [
    {
     "name": "stdout",
     "output_type": "stream",
     "text": [
      "True\n",
      "False\n",
      "True\n",
      "False\n"
     ]
    }
   ],
   "source": [
    "dict = {'one' : 1, 'two' : 2}\n",
    "print('two' in dict.keys())   # 'keys()'를 생략하고, 'two' in dict 이라고 해도 된다.\n",
    "print('three' in dict.keys())\n",
    "print(2 in dict.values())\n",
    "print(3 in dict.values())"
   ]
  },
  {
   "cell_type": "markdown",
   "metadata": {},
   "source": [
    "### get\n",
    "- get은 두 개의 매개변수를 가진다.\n",
    "- 첫 번째는 가져올 value값의 key, 두 번째는 그 key가 존재하지 않을 때 돌려줄 값이다."
   ]
  },
  {
   "cell_type": "code",
   "execution_count": 15,
   "metadata": {},
   "outputs": [],
   "source": [
    "item1 = {'apple' : 3, 'banana' : 5}\n",
    "a = 'I am bringing ' + str(item1.get('apple', 0)) + ' apples.'\n",
    "b = 'I am bringing ' + str(item1.get('peach', 0)) + ' peaches.'"
   ]
  },
  {
   "cell_type": "code",
   "execution_count": 16,
   "metadata": {},
   "outputs": [
    {
     "name": "stdout",
     "output_type": "stream",
     "text": [
      "I am bringing 3 apples.\n",
      "I am bringing 0 peaches.\n"
     ]
    }
   ],
   "source": [
    "print(a)\n",
    "print(b)"
   ]
  },
  {
   "cell_type": "markdown",
   "metadata": {},
   "source": [
    "### setdefault\n",
    "- setdefault는 두 개의 매개변수를 가진다.\n",
    "- 첫 번째는 검사할 key 값, 두 번째는 그 key가 존재하지 않을 때 key의 value 값으로 지정할 값"
   ]
  },
  {
   "cell_type": "code",
   "execution_count": 17,
   "metadata": {},
   "outputs": [
    {
     "name": "stdout",
     "output_type": "stream",
     "text": [
      "black\n",
      "{'apple': 3, 'banana': 5, 'color': 'black', 'name': 'Mason'}\n"
     ]
    }
   ],
   "source": [
    "a = item1.setdefault('color', 'black')\n",
    "item1.setdefault('name', 'Mason')\n",
    "print(a)\n",
    "print(item1)"
   ]
  },
  {
   "cell_type": "code",
   "execution_count": 18,
   "metadata": {},
   "outputs": [
    {
     "name": "stdout",
     "output_type": "stream",
     "text": [
      "black\n",
      "{'apple': 3, 'banana': 5, 'color': 'black', 'name': 'Mason'}\n"
     ]
    }
   ],
   "source": [
    "a = item1.setdefault('color', 'white')   # 이미 color(key)에 대한 value가 지정되어 있기 때문에 변하지 않는다.\n",
    "print(a)\n",
    "print(item1)"
   ]
  },
  {
   "cell_type": "markdown",
   "metadata": {},
   "source": [
    "### update"
   ]
  },
  {
   "cell_type": "code",
   "execution_count": 19,
   "metadata": {},
   "outputs": [
    {
     "name": "stdout",
     "output_type": "stream",
     "text": [
      "dict1.update(dict2) =  {1: 1111, 2: 200, 3: 300}\n"
     ]
    }
   ],
   "source": [
    "dict1 = {1:100, 2:200}\n",
    "dict2 = {1:1111, 3:300}\n",
    "dict1.update(dict2)\n",
    "print('dict1.update(dict2) = ', dict1)"
   ]
  },
  {
   "cell_type": "code",
   "execution_count": 20,
   "metadata": {},
   "outputs": [
    {
     "name": "stdout",
     "output_type": "stream",
     "text": [
      "dict2.update(dict1) =  {1: 100, 3: 300, 2: 200}\n"
     ]
    }
   ],
   "source": [
    "dict1 = {1:100, 2:200}\n",
    "dict2 = {1:1111, 3:300}\n",
    "dict2.update(dict1)\n",
    "print('dict2.update(dict1) = ', dict2)\n",
    "# update 함수 쓸 때, 순서에 유의해야 한다."
   ]
  },
  {
   "cell_type": "markdown",
   "metadata": {},
   "source": [
    "## # pprint 사용"
   ]
  },
  {
   "cell_type": "code",
   "execution_count": 21,
   "metadata": {},
   "outputs": [],
   "source": [
    "import pprint\n",
    "message = 'It was a bright cold day in April'\n",
    "count = {}\n",
    "\n",
    "for i in message :\n",
    "    count.setdefault(i, 0)\n",
    "    count[i] = count[i] + 1"
   ]
  },
  {
   "cell_type": "code",
   "execution_count": 22,
   "metadata": {},
   "outputs": [
    {
     "name": "stdout",
     "output_type": "stream",
     "text": [
      "{'I': 1, 't': 2, ' ': 7, 'w': 1, 'a': 3, 's': 1, 'b': 1, 'r': 2, 'i': 3, 'g': 1, 'h': 1, 'c': 1, 'o': 1, 'l': 2, 'd': 2, 'y': 1, 'n': 1, 'A': 1, 'p': 1}\n"
     ]
    }
   ],
   "source": [
    "print(count)"
   ]
  },
  {
   "cell_type": "code",
   "execution_count": 23,
   "metadata": {},
   "outputs": [
    {
     "name": "stdout",
     "output_type": "stream",
     "text": [
      "{' ': 7,\n",
      " 'A': 1,\n",
      " 'I': 1,\n",
      " 'a': 3,\n",
      " 'b': 1,\n",
      " 'c': 1,\n",
      " 'd': 2,\n",
      " 'g': 1,\n",
      " 'h': 1,\n",
      " 'i': 3,\n",
      " 'l': 2,\n",
      " 'n': 1,\n",
      " 'o': 1,\n",
      " 'p': 1,\n",
      " 'r': 2,\n",
      " 's': 1,\n",
      " 't': 2,\n",
      " 'w': 1,\n",
      " 'y': 1}\n"
     ]
    }
   ],
   "source": [
    "pprint.pprint(count)"
   ]
  },
  {
   "cell_type": "code",
   "execution_count": 24,
   "metadata": {},
   "outputs": [
    {
     "name": "stdout",
     "output_type": "stream",
     "text": [
      "a : {' ': 7,\n",
      " 'A': 1,\n",
      " 'I': 1,\n",
      " 'a': 3,\n",
      " 'b': 1,\n",
      " 'c': 1,\n",
      " 'd': 2,\n",
      " 'g': 1,\n",
      " 'h': 1,\n",
      " 'i': 3,\n",
      " 'l': 2,\n",
      " 'n': 1,\n",
      " 'o': 1,\n",
      " 'p': 1,\n",
      " 'r': 2,\n",
      " 's': 1,\n",
      " 't': 2,\n",
      " 'w': 1,\n",
      " 'y': 1}\n"
     ]
    }
   ],
   "source": [
    "a = pprint.pformat(count)\n",
    "# 보기 좋게 다듬은 텍스트를 화면에 표시하는 대신 문자열 값으로 없고 싶을 때 pprint.pformat() 사용\n",
    "print('a :', a)"
   ]
  },
  {
   "cell_type": "markdown",
   "metadata": {},
   "source": [
    "## # Dictionary와 loop"
   ]
  },
  {
   "cell_type": "code",
   "execution_count": 25,
   "metadata": {},
   "outputs": [
    {
     "name": "stdout",
     "output_type": "stream",
     "text": [
      "Tod\n",
      "Jane\n",
      "Mason\n"
     ]
    }
   ],
   "source": [
    "age = {'Tod' : 25, 'Jane' : 26, 'Mason' : 31}\n",
    "\n",
    "for key in age.keys() :\n",
    "    print(key)"
   ]
  },
  {
   "cell_type": "code",
   "execution_count": 26,
   "metadata": {},
   "outputs": [
    {
     "name": "stdout",
     "output_type": "stream",
     "text": [
      "25\n",
      "26\n",
      "31\n"
     ]
    }
   ],
   "source": [
    "for value in age.values() :\n",
    "    print(value)"
   ]
  },
  {
   "cell_type": "code",
   "execution_count": 27,
   "metadata": {},
   "outputs": [
    {
     "name": "stdout",
     "output_type": "stream",
     "text": [
      "Tod의 나이는 25 입니다.\n",
      "Jane의 나이는 26 입니다.\n",
      "Mason의 나이는 31 입니다.\n"
     ]
    }
   ],
   "source": [
    "for key in age.keys() :\n",
    "    print('{}의 나이는 {} 입니다.' .format(key, age[key]))"
   ]
  },
  {
   "cell_type": "code",
   "execution_count": 28,
   "metadata": {
    "scrolled": true
   },
   "outputs": [
    {
     "name": "stdout",
     "output_type": "stream",
     "text": [
      "Tod의 나이는 25 입니다.\n",
      "Jane의 나이는 26 입니다.\n",
      "Mason의 나이는 31 입니다.\n"
     ]
    }
   ],
   "source": [
    "for key in age :\n",
    "    print('{}의 나이는 {} 입니다.' .format(key, age[key]))"
   ]
  },
  {
   "cell_type": "markdown",
   "metadata": {},
   "source": [
    "- 보통은 딕셔너리에서 가져오는 값은 keys이다. key가 있으면 value도 가져올 수 있기 때문.\n",
    "- 따라서 보통 python에서는 age.keys() 대신 age라고 쓰면 .keys() 가 있다고 생각한다."
   ]
  },
  {
   "cell_type": "code",
   "execution_count": 29,
   "metadata": {},
   "outputs": [
    {
     "name": "stdout",
     "output_type": "stream",
     "text": [
      "Tod의 나이는 25 입니다.\n",
      "Jane의 나이는 26 입니다.\n",
      "Mason의 나이는 31 입니다.\n"
     ]
    }
   ],
   "source": [
    "for key, value in age.items() :\n",
    "    print('{}의 나이는 {} 입니다.' .format(key, value))"
   ]
  },
  {
   "cell_type": "markdown",
   "metadata": {},
   "source": [
    "- items() : enumerate와 비슷한 기능, key와 value를 동시에 넘겨 받는다."
   ]
  }
 ],
 "metadata": {
  "kernelspec": {
   "display_name": "Python 3",
   "language": "python",
   "name": "python3"
  },
  "language_info": {
   "codemirror_mode": {
    "name": "ipython",
    "version": 3
   },
   "file_extension": ".py",
   "mimetype": "text/x-python",
   "name": "python",
   "nbconvert_exporter": "python",
   "pygments_lexer": "ipython3",
   "version": "3.7.3"
  }
 },
 "nbformat": 4,
 "nbformat_minor": 2
}
