{
 "cells": [
  {
   "cell_type": "markdown",
   "metadata": {},
   "source": [
    "## # List 기초"
   ]
  },
  {
   "cell_type": "code",
   "execution_count": 1,
   "metadata": {},
   "outputs": [
    {
     "name": "stdout",
     "output_type": "stream",
     "text": [
      "바위\n"
     ]
    }
   ],
   "source": [
    "a = ['가위', '바위', '보']\n",
    "b = [1, 3, 5, 7, 9]\n",
    "print(a[1])"
   ]
  },
  {
   "cell_type": "code",
   "execution_count": 2,
   "metadata": {},
   "outputs": [
    {
     "name": "stdout",
     "output_type": "stream",
     "text": [
      "a = ['가위', '보', '보']\n"
     ]
    }
   ],
   "source": [
    "a[1] = '보'\n",
    "print('a = {}' .format(a))"
   ]
  },
  {
   "cell_type": "code",
   "execution_count": 3,
   "metadata": {},
   "outputs": [
    {
     "name": "stdout",
     "output_type": "stream",
     "text": [
      "b[-3] = 5\n",
      "c = 3\n"
     ]
    }
   ],
   "source": [
    "print('b[-3] = {}' .format(b[-3]))\n",
    "# -3은 뒤에서 세 번째라는 뜻\n",
    "c = b[-4]\n",
    "print('c = {}' .format(c))"
   ]
  },
  {
   "cell_type": "code",
   "execution_count": 4,
   "metadata": {},
   "outputs": [
    {
     "name": "stdout",
     "output_type": "stream",
     "text": [
      "a + b = [1, 2, 3, 4, 5, 6]\n"
     ]
    }
   ],
   "source": [
    "a = [1, 2, 3]\n",
    "b = [4, 5, 6]\n",
    "print('a + b = {}' .format(a+b))"
   ]
  },
  {
   "cell_type": "code",
   "execution_count": 5,
   "metadata": {},
   "outputs": [],
   "source": [
    "a = [1, 2, 3]\n",
    "b = [1]\n",
    "# print('a - b = {}' .format(a-b))   # '-' 는 사용할 수 없음"
   ]
  },
  {
   "cell_type": "code",
   "execution_count": 6,
   "metadata": {},
   "outputs": [
    {
     "name": "stdout",
     "output_type": "stream",
     "text": [
      "a * 3 = [1, 2, 3, 1, 2, 3, 1, 2, 3]\n"
     ]
    }
   ],
   "source": [
    "print('a * 3 = {}' .format(a*3))"
   ]
  },
  {
   "cell_type": "code",
   "execution_count": 7,
   "metadata": {},
   "outputs": [
    {
     "name": "stdout",
     "output_type": "stream",
     "text": [
      "a = [1, 2, 3, 5]\n",
      "a = [1, 2, 3, 5, 6]\n"
     ]
    }
   ],
   "source": [
    "a = a + [5]\n",
    "print('a =', a)\n",
    "a += [6]\n",
    "print('a =', a)"
   ]
  },
  {
   "cell_type": "code",
   "execution_count": 8,
   "metadata": {},
   "outputs": [
    {
     "name": "stdout",
     "output_type": "stream",
     "text": [
      "d = [1, 2, 3, 5, 6, 100, 200, 300]\n"
     ]
    }
   ],
   "source": [
    "b = [100, 200, 300]\n",
    "d = a + b\n",
    "print('d =', d)"
   ]
  },
  {
   "cell_type": "code",
   "execution_count": 9,
   "metadata": {},
   "outputs": [
    {
     "name": "stdout",
     "output_type": "stream",
     "text": [
      "['cat', 'dog', 'tiger']\n",
      "100\n",
      "dog\n",
      "h\n"
     ]
    }
   ],
   "source": [
    "d = [['cat', 'dog', 'tiger'], 100, 'that', [10, 20, 30, 40]]\n",
    "print(d[0])\n",
    "print(d[1])\n",
    "print(d[0][1])\n",
    "print(d[2][1])"
   ]
  },
  {
   "cell_type": "code",
   "execution_count": 10,
   "metadata": {},
   "outputs": [
    {
     "name": "stdout",
     "output_type": "stream",
     "text": [
      "[3, 2, 1]\n"
     ]
    }
   ],
   "source": [
    "# list에서 두 자료 값 서로 바꾸기\n",
    "a = [1, 2, 3]\n",
    "a[0], a[2] = a[2], a[0]\n",
    "print(a)"
   ]
  },
  {
   "cell_type": "markdown",
   "metadata": {},
   "source": [
    "## # List method & 기타 기능\n",
    "- List 라는 class에서 함수로 정의되었음"
   ]
  },
  {
   "cell_type": "markdown",
   "metadata": {},
   "source": [
    "### len()\n",
    "- 리스트 길이(자료 개수)를 나타냄"
   ]
  },
  {
   "cell_type": "code",
   "execution_count": 11,
   "metadata": {},
   "outputs": [
    {
     "name": "stdout",
     "output_type": "stream",
     "text": [
      "len(a) = 0\n",
      "len([1, 2, 3])= 3\n"
     ]
    }
   ],
   "source": [
    "a = []\n",
    "print('len(a) =', len(a))\n",
    "print('len([1, 2, 3])=', len([1, 2, 3]))"
   ]
  },
  {
   "cell_type": "markdown",
   "metadata": {},
   "source": [
    "### append\n",
    "- a.append(x)\n",
    "- 리스트 a의 맨 뒤에 x를 추가"
   ]
  },
  {
   "cell_type": "code",
   "execution_count": 12,
   "metadata": {},
   "outputs": [
    {
     "name": "stdout",
     "output_type": "stream",
     "text": [
      "a = [1, 2, 3, 4]\n"
     ]
    }
   ],
   "source": [
    "a = [1, 2, 3]\n",
    "a.append(4)\n",
    "print('a =', a)"
   ]
  },
  {
   "cell_type": "markdown",
   "metadata": {},
   "source": [
    "### extend\n",
    "- a.extend([x, y, ...])\n",
    "- 리스트의 끝에 리스트를 추가"
   ]
  },
  {
   "cell_type": "code",
   "execution_count": 13,
   "metadata": {},
   "outputs": [
    {
     "name": "stdout",
     "output_type": "stream",
     "text": [
      "a = [1, 2, 3, 4, 5, 6]\n"
     ]
    }
   ],
   "source": [
    "a = [1, 2, 3]\n",
    "a.extend([4, 5, 6])\n",
    "print('a =', a)"
   ]
  },
  {
   "cell_type": "markdown",
   "metadata": {},
   "source": [
    "### insert\n",
    "- a.insert(i, x)\n",
    "- 리스트 i번 위치에 x를 추가"
   ]
  },
  {
   "cell_type": "code",
   "execution_count": 14,
   "metadata": {},
   "outputs": [
    {
     "name": "stdout",
     "output_type": "stream",
     "text": [
      "a = [1, 5, 2, 3]\n"
     ]
    }
   ],
   "source": [
    "a = [1, 2, 3]\n",
    "a.insert(1, 5)\n",
    "print('a =', a)"
   ]
  },
  {
   "cell_type": "code",
   "execution_count": 15,
   "metadata": {},
   "outputs": [
    {
     "name": "stdout",
     "output_type": "stream",
     "text": [
      "a = [1, 5, 2, 6, 3]\n",
      "인덱스가 음수인 경우 주의\n"
     ]
    }
   ],
   "source": [
    "a.insert(-1, 6)\n",
    "print('a =', a)\n",
    "print('인덱스가 음수인 경우 주의')\n",
    "# 맨 마지막에 추가하고 싶다면, append 사용"
   ]
  },
  {
   "cell_type": "code",
   "execution_count": 16,
   "metadata": {},
   "outputs": [
    {
     "name": "stdout",
     "output_type": "stream",
     "text": [
      "a = [1, 5, 2, 6, 3, 7]\n"
     ]
    }
   ],
   "source": [
    "a.insert(10000, 7)\n",
    "print('a =', a)"
   ]
  },
  {
   "cell_type": "markdown",
   "metadata": {},
   "source": [
    "### pop\n",
    "- a.pop(i)\n",
    "- 리스트 i번 위치에 있는 값를 제거하면서, 그 값을 return(돌려줌)\n",
    "- i를 지정하지 않으면, 맨 마지막 값을 제거"
   ]
  },
  {
   "cell_type": "code",
   "execution_count": 17,
   "metadata": {},
   "outputs": [
    {
     "name": "stdout",
     "output_type": "stream",
     "text": [
      "a.pop() = 3 , a = [1, 2]\n"
     ]
    }
   ],
   "source": [
    "a = [1, 2, 3]\n",
    "print('a.pop() =', a.pop(), ', a =', a)"
   ]
  },
  {
   "cell_type": "code",
   "execution_count": 18,
   "metadata": {},
   "outputs": [
    {
     "name": "stdout",
     "output_type": "stream",
     "text": [
      "b.pop(1) = 20 , b = [10, 30]\n"
     ]
    }
   ],
   "source": [
    "b = [10, 20, 30]\n",
    "print('b.pop(1) =', b.pop(1), ', b =', b)"
   ]
  },
  {
   "cell_type": "markdown",
   "metadata": {},
   "source": [
    "### del\n",
    "- del a(i)\n",
    "- 리스트 i번 위치에 있는 값을 제거\n",
    "- pop 과는 다르게 값을 return 받지는 않음"
   ]
  },
  {
   "cell_type": "code",
   "execution_count": 19,
   "metadata": {},
   "outputs": [
    {
     "name": "stdout",
     "output_type": "stream",
     "text": [
      "c = [100, 300]\n"
     ]
    }
   ],
   "source": [
    "c = [100, 200, 300]\n",
    "del c[1]\n",
    "print('c =', c)"
   ]
  },
  {
   "cell_type": "code",
   "execution_count": 20,
   "metadata": {},
   "outputs": [
    {
     "name": "stdout",
     "output_type": "stream",
     "text": [
      "c = [100]\n"
     ]
    }
   ],
   "source": [
    "del(c[1])\n",
    "print('c =', c)"
   ]
  },
  {
   "cell_type": "markdown",
   "metadata": {},
   "source": [
    "### remove\n",
    "- a.remove(x)\n",
    "- 리스트에 있는 값 x를 제거\n",
    "- pop 과는 다르게 값을 return 하지는 않는다."
   ]
  },
  {
   "cell_type": "code",
   "execution_count": 21,
   "metadata": {},
   "outputs": [
    {
     "name": "stdout",
     "output_type": "stream",
     "text": [
      "a = [11, 33, 22]\n",
      "같은 값이 여러 개 들어있어도, 가장 먼저 나오는 값 하나만 지운다.\n"
     ]
    }
   ],
   "source": [
    "a = [11, 22, 33, 22]\n",
    "a.remove(22)\n",
    "print('a =', a)\n",
    "print('같은 값이 여러 개 들어있어도, 가장 먼저 나오는 값 하나만 지운다.')"
   ]
  },
  {
   "cell_type": "markdown",
   "metadata": {},
   "source": [
    "### clear\n",
    "- a.clear()\n",
    "- 리스트의 모든 값을 제거"
   ]
  },
  {
   "cell_type": "code",
   "execution_count": 22,
   "metadata": {},
   "outputs": [
    {
     "name": "stdout",
     "output_type": "stream",
     "text": [
      "a = []\n"
     ]
    }
   ],
   "source": [
    "a = [1, 2, 3]\n",
    "a.clear()\n",
    "print('a =', a)"
   ]
  },
  {
   "cell_type": "markdown",
   "metadata": {},
   "source": [
    "### in / not in\n",
    "- x in a / x not in a\n",
    "- 어떤 값 x가 리스트 a 안에 있는지/없는지 확인"
   ]
  },
  {
   "cell_type": "code",
   "execution_count": 23,
   "metadata": {},
   "outputs": [
    {
     "name": "stdout",
     "output_type": "stream",
     "text": [
      "'2 in a' is  True\n",
      "'5 in a' is  False\n",
      "'5 not in a' is  True\n"
     ]
    }
   ],
   "source": [
    "a = [1, 2, 3]\n",
    "print(\"'2 in a' is \", 2 in a)\n",
    "print(\"'5 in a' is \", 5 in a)\n",
    "print(\"'5 not in a' is \", 5 not in a)"
   ]
  },
  {
   "cell_type": "code",
   "execution_count": 24,
   "metadata": {},
   "outputs": [
    {
     "name": "stdout",
     "output_type": "stream",
     "text": [
      "[1, 2, 3]\n"
     ]
    }
   ],
   "source": [
    "if 2 in a :\n",
    "    print(a)"
   ]
  },
  {
   "cell_type": "markdown",
   "metadata": {},
   "source": [
    "### index\n",
    "- a.index(x)\n",
    "- list에서 x의 위치(index)를 return 한다."
   ]
  },
  {
   "cell_type": "code",
   "execution_count": 25,
   "metadata": {},
   "outputs": [
    {
     "name": "stdout",
     "output_type": "stream",
     "text": [
      "2\n"
     ]
    }
   ],
   "source": [
    "list1 = [132, 56, 41, 54, 27]\n",
    "a = list1.index(41)\n",
    "print(a)"
   ]
  },
  {
   "cell_type": "code",
   "execution_count": 26,
   "metadata": {},
   "outputs": [
    {
     "name": "stdout",
     "output_type": "stream",
     "text": [
      "1\n"
     ]
    }
   ],
   "source": [
    "list2 = [132, 56, 41, 54, 27, 56]\n",
    "a = list2.index(56)\n",
    "print(a)\n",
    "# 리스트에 같은 값이 여러 개 있다면, 처음 발견되는 인덱스 값을 돌려준다."
   ]
  },
  {
   "cell_type": "markdown",
   "metadata": {},
   "source": [
    "### sort & sorted\n",
    "- a.sort() & sorted\n",
    "- list a를 오름차순으로 정렬"
   ]
  },
  {
   "cell_type": "code",
   "execution_count": 27,
   "metadata": {},
   "outputs": [
    {
     "name": "stdout",
     "output_type": "stream",
     "text": [
      "b = [5, 1, 4, 2, 3]\n"
     ]
    }
   ],
   "source": [
    "b = [5, 1, 4, 2, 3]\n",
    "sorted(b)\n",
    "print('b =', b)   # b가 정렬되지 않고 그대로 출력된다."
   ]
  },
  {
   "cell_type": "code",
   "execution_count": 28,
   "metadata": {},
   "outputs": [
    {
     "name": "stdout",
     "output_type": "stream",
     "text": [
      "sorted(b) = [1, 2, 3, 4, 5]\n"
     ]
    }
   ],
   "source": [
    "print('sorted(b) =', sorted(b))"
   ]
  },
  {
   "cell_type": "code",
   "execution_count": 29,
   "metadata": {},
   "outputs": [
    {
     "name": "stdout",
     "output_type": "stream",
     "text": [
      "c = [1, 2, 3, 4, 5]\n"
     ]
    }
   ],
   "source": [
    "c = sorted(b)\n",
    "print('c =', c)"
   ]
  },
  {
   "cell_type": "code",
   "execution_count": 30,
   "metadata": {},
   "outputs": [
    {
     "name": "stdout",
     "output_type": "stream",
     "text": [
      "a = [1, 2, 3, 4, 5]\n"
     ]
    }
   ],
   "source": [
    "a = [5, 1, 4, 2, 3]\n",
    "a.sort()\n",
    "print('a =', a)   # a가 정렬되어 출력된다."
   ]
  },
  {
   "cell_type": "code",
   "execution_count": 31,
   "metadata": {},
   "outputs": [
    {
     "name": "stdout",
     "output_type": "stream",
     "text": [
      "d = None\n"
     ]
    }
   ],
   "source": [
    "d = a.sort()   # d는 sorted처럼 a.sort를 받질 못한다.\n",
    "print('d =', d)"
   ]
  },
  {
   "cell_type": "code",
   "execution_count": 32,
   "metadata": {},
   "outputs": [
    {
     "name": "stdout",
     "output_type": "stream",
     "text": [
      "e = ['Bob', 'Danny', 'Zion', 'ant', 'cat', 'dog', 'pig']\n"
     ]
    }
   ],
   "source": [
    "e = ['Zion', 'Danny', 'cat', 'pig', 'dog', 'ant', 'Bob']\n",
    "e.sort()\n",
    "print('e =', e)\n",
    "# 문자열을 정렬할 때는 대문자들을 먼저 정렬한 후, 소문자가 정렬된다."
   ]
  },
  {
   "cell_type": "code",
   "execution_count": 33,
   "metadata": {},
   "outputs": [
    {
     "name": "stdout",
     "output_type": "stream",
     "text": [
      "f = ['ant', 'Bob', 'cat', 'Danny', 'dog', 'pig', 'Zion']\n"
     ]
    }
   ],
   "source": [
    "f = ['Zion', 'Danny', 'cat', 'pig', 'dog', 'ant', 'Bob']\n",
    "f.sort(key = str.lower)\n",
    "print('f =', f)\n",
    "# 대소문자에 상관없이 알파벳 순서로 정렬하려면, 모든 문자열을 소문자인 것 처럼 간주해주도록 설정해준다."
   ]
  },
  {
   "cell_type": "markdown",
   "metadata": {},
   "source": [
    "### reverse\n",
    "- a.reverse()\n",
    "- list의 값들의 순서를 거꾸로 뒤집는다."
   ]
  },
  {
   "cell_type": "code",
   "execution_count": 34,
   "metadata": {},
   "outputs": [
    {
     "name": "stdout",
     "output_type": "stream",
     "text": [
      "a = [3, 2, 4, 1, 5]\n"
     ]
    }
   ],
   "source": [
    "a = [5, 1, 4, 2, 3]\n",
    "a.reverse()\n",
    "print('a =', a)"
   ]
  },
  {
   "cell_type": "code",
   "execution_count": 35,
   "metadata": {},
   "outputs": [
    {
     "name": "stdout",
     "output_type": "stream",
     "text": [
      "b = [5, 4, 3, 2, 1]\n"
     ]
    }
   ],
   "source": [
    "b = a\n",
    "b.sort()\n",
    "b.reverse()\n",
    "print('b =', b)"
   ]
  },
  {
   "cell_type": "code",
   "execution_count": 36,
   "metadata": {},
   "outputs": [
    {
     "name": "stdout",
     "output_type": "stream",
     "text": [
      "c = [5, 4, 3, 2, 1]\n"
     ]
    }
   ],
   "source": [
    "c = [5, 1, 4, 2, 3]\n",
    "c.sort(reverse = True)\n",
    "print('c =', c)"
   ]
  },
  {
   "cell_type": "markdown",
   "metadata": {},
   "source": [
    "### copy"
   ]
  },
  {
   "cell_type": "code",
   "execution_count": 37,
   "metadata": {},
   "outputs": [
    {
     "name": "stdout",
     "output_type": "stream",
     "text": [
      "list1 = [1, 2, 1, 2]\n",
      "list2 = [1, 2, 1, 2]\n",
      "list3 = [3]\n",
      "list4 = [1, 2, 4]\n"
     ]
    }
   ],
   "source": [
    "list1 = [1, 2]\n",
    "list2 = list1   # list2는 list1과 서로 구속된다. 같은 list를 참조하게 됨\n",
    "list3 = []\n",
    "list4 = list1.copy()   # 리스트를 복사해서 또 다른 리스트를 만들 때는 이렇게 써야한다.\n",
    "\n",
    "list1.append(1)\n",
    "list2.append(2)\n",
    "list3.append(3)\n",
    "list4.append(4)\n",
    "\n",
    "print('list1 = {}' .format(list1))\n",
    "print('list2 = {}' .format(list2))\n",
    "print('list3 = {}' .format(list3))\n",
    "print('list4 = {}' .format(list4))"
   ]
  },
  {
   "cell_type": "markdown",
   "metadata": {},
   "source": [
    "- list나 dictionary 같이 변경 가능한 데이터 형식의 값은 변수에 지정할 때 참조를 사용\n",
    "- 문자열, 정수, 튜플같이 변경 불가능한 데이터 형식은 변수에 그 값 자체를 저장"
   ]
  },
  {
   "cell_type": "markdown",
   "metadata": {},
   "source": [
    "## # List와 문자열"
   ]
  },
  {
   "cell_type": "code",
   "execution_count": 38,
   "metadata": {},
   "outputs": [
    {
     "name": "stdout",
     "output_type": "stream",
     "text": [
      "4\n"
     ]
    }
   ],
   "source": [
    "n = len('this')   # 문자열도 list 처럼 길이를 받을 수 있다.\n",
    "print(n)"
   ]
  },
  {
   "cell_type": "code",
   "execution_count": 39,
   "metadata": {},
   "outputs": [
    {
     "name": "stdout",
     "output_type": "stream",
     "text": [
      "7\n",
      "T\n"
     ]
    }
   ],
   "source": [
    "a = 'This is'\n",
    "print(len(a))\n",
    "print(a[0])   # 문자열을 list 처럼 쓸 수 있다."
   ]
  },
  {
   "cell_type": "code",
   "execution_count": 40,
   "metadata": {},
   "outputs": [
    {
     "name": "stdout",
     "output_type": "stream",
     "text": [
      "True\n",
      "False\n"
     ]
    }
   ],
   "source": [
    "str1 = 'hello'\n",
    "print('e' in str1)\n",
    "print('a' in str1)"
   ]
  },
  {
   "cell_type": "code",
   "execution_count": 41,
   "metadata": {},
   "outputs": [
    {
     "name": "stdout",
     "output_type": "stream",
     "text": [
      "4\n"
     ]
    }
   ],
   "source": [
    "print(str1.index('o'))"
   ]
  },
  {
   "cell_type": "code",
   "execution_count": 42,
   "metadata": {},
   "outputs": [
    {
     "name": "stdout",
     "output_type": "stream",
     "text": [
      "ch1 = ['a', 'b', 'c', 'd', 'e', 'f']\n"
     ]
    }
   ],
   "source": [
    "ch1 = list(\"abcdef\")\n",
    "print('ch1 =', ch1)"
   ]
  },
  {
   "cell_type": "code",
   "execution_count": 43,
   "metadata": {},
   "outputs": [
    {
     "name": "stdout",
     "output_type": "stream",
     "text": [
      "ch2 = ['a', 'b', 'c', ' ', 'd', 'e', 'f']\n"
     ]
    }
   ],
   "source": [
    "ch2 = list(\"abc def\")\n",
    "print('ch2 =', ch2)"
   ]
  },
  {
   "cell_type": "code",
   "execution_count": 44,
   "metadata": {},
   "outputs": [
    {
     "name": "stdout",
     "output_type": "stream",
     "text": [
      "['Hello', 'world는', '프로그래밍을', '배우기에', '매우', '좋은', '사이트입니다.']\n"
     ]
    }
   ],
   "source": [
    "words = 'Hello world는 프로그래밍을 배우기에 매우 좋은 사이트입니다.'\n",
    "word_list = words.split()   # 또는 words.split(' ') 를 사용한다.\n",
    "print(word_list)"
   ]
  },
  {
   "cell_type": "code",
   "execution_count": 45,
   "metadata": {},
   "outputs": [
    {
     "name": "stdout",
     "output_type": "stream",
     "text": [
      "['My', 'name', 'is', 'Mason.']\n"
     ]
    }
   ],
   "source": [
    "print('MyABCnameABCisABCMason.'.split('ABC'))"
   ]
  },
  {
   "cell_type": "code",
   "execution_count": 46,
   "metadata": {},
   "outputs": [
    {
     "name": "stdout",
     "output_type": "stream",
     "text": [
      "['10', '35', '42']\n"
     ]
    }
   ],
   "source": [
    "time_str = \"10:35:42\"\n",
    "time_list = time_str.split(':')\n",
    "print(time_list)"
   ]
  },
  {
   "cell_type": "code",
   "execution_count": 47,
   "metadata": {},
   "outputs": [
    {
     "name": "stdout",
     "output_type": "stream",
     "text": [
      "a = 10:35:42\n"
     ]
    }
   ],
   "source": [
    "a = \":\".join(time_list)\n",
    "print('a =', a)"
   ]
  },
  {
   "cell_type": "code",
   "execution_count": 48,
   "metadata": {},
   "outputs": [
    {
     "name": "stdout",
     "output_type": "stream",
     "text": [
      "a = Hello world는 프로그래밍을 배우기에 매우 좋은 사이트입니다.\n"
     ]
    }
   ],
   "source": [
    "a = ' '.join(word_list)\n",
    "print('a =', a)"
   ]
  },
  {
   "cell_type": "code",
   "execution_count": 49,
   "metadata": {},
   "outputs": [
    {
     "name": "stdout",
     "output_type": "stream",
     "text": [
      "a = Helloworld는프로그래밍을배우기에매우좋은사이트입니다.\n"
     ]
    }
   ],
   "source": [
    "a = ''.join(word_list)\n",
    "print('a =', a)"
   ]
  },
  {
   "cell_type": "code",
   "execution_count": 50,
   "metadata": {},
   "outputs": [
    {
     "name": "stdout",
     "output_type": "stream",
     "text": [
      "hello dog\n"
     ]
    }
   ],
   "source": [
    "list_new = ['cat', 'dog', 'tiger']\n",
    "print('hello ' + list_new[1])"
   ]
  },
  {
   "cell_type": "code",
   "execution_count": 51,
   "metadata": {},
   "outputs": [
    {
     "name": "stdout",
     "output_type": "stream",
     "text": [
      "***Z***\n",
      "***o***\n",
      "***m***\n",
      "***b***\n",
      "***i***\n",
      "***e***\n"
     ]
    }
   ],
   "source": [
    "name = 'Zombie'\n",
    "for i in name :\n",
    "    print('***' + i + '***')"
   ]
  },
  {
   "cell_type": "markdown",
   "metadata": {},
   "source": [
    "## # Slice"
   ]
  },
  {
   "cell_type": "code",
   "execution_count": 52,
   "metadata": {},
   "outputs": [
    {
     "name": "stdout",
     "output_type": "stream",
     "text": [
      "e = [1, 2, 3]\n",
      "f = [3, 4, 5, 6]\n"
     ]
    }
   ],
   "source": [
    "d = [1, 2, 3, 4, 5, 6]\n",
    "e = d[:3]\n",
    "f = d[2:]\n",
    "print('e = {}' .format(e))\n",
    "print('f = {}' .format(f))"
   ]
  },
  {
   "cell_type": "code",
   "execution_count": 53,
   "metadata": {},
   "outputs": [
    {
     "name": "stdout",
     "output_type": "stream",
     "text": [
      "ell\n"
     ]
    }
   ],
   "source": [
    "text = 'hello world'\n",
    "print(text[1:4])"
   ]
  },
  {
   "cell_type": "code",
   "execution_count": 54,
   "metadata": {},
   "outputs": [
    {
     "name": "stdout",
     "output_type": "stream",
     "text": [
      "['일', '이', '삼', '사']\n"
     ]
    }
   ],
   "source": [
    "a = ['영', '일', '이', '삼', '사', '오']\n",
    "print(a[1:5])"
   ]
  },
  {
   "cell_type": "code",
   "execution_count": 55,
   "metadata": {},
   "outputs": [
    {
     "name": "stdout",
     "output_type": "stream",
     "text": [
      "['영', '일', '이', '삼', '사', '오']\n"
     ]
    }
   ],
   "source": [
    "print(a[:])   # a와 같은 리스트를 복사하지만, 되도록 쓰지 않길 권장"
   ]
  },
  {
   "cell_type": "code",
   "execution_count": 56,
   "metadata": {},
   "outputs": [
    {
     "name": "stdout",
     "output_type": "stream",
     "text": [
      "[0, 1, 2, 3, 4, 5, 6, 7, 8, 9, 10, 11, 12, 13, 14, 15, 16, 17, 18, 19]\n"
     ]
    }
   ],
   "source": [
    "b = list(range(20))\n",
    "print(b)"
   ]
  },
  {
   "cell_type": "code",
   "execution_count": 57,
   "metadata": {},
   "outputs": [
    {
     "name": "stdout",
     "output_type": "stream",
     "text": [
      "[5, 6, 7, 8, 9, 10, 11, 12, 13, 14]\n"
     ]
    }
   ],
   "source": [
    "print(b[5:15])"
   ]
  },
  {
   "cell_type": "code",
   "execution_count": 58,
   "metadata": {},
   "outputs": [
    {
     "name": "stdout",
     "output_type": "stream",
     "text": [
      "[5, 7, 9, 11, 13]\n"
     ]
    }
   ],
   "source": [
    "print(b[5:15:2])"
   ]
  },
  {
   "cell_type": "code",
   "execution_count": 59,
   "metadata": {},
   "outputs": [
    {
     "name": "stdout",
     "output_type": "stream",
     "text": [
      "[5, 8, 11, 14]\n"
     ]
    }
   ],
   "source": [
    "print(b[5:15:3])\n",
    "# 이 때 쓴 2 또는 3을 스텝이라고 한다. 기본 스텝은 1이다."
   ]
  },
  {
   "cell_type": "code",
   "execution_count": 60,
   "metadata": {},
   "outputs": [
    {
     "name": "stdout",
     "output_type": "stream",
     "text": [
      "[0, 1, 2, 3, 4, 5, 6, 7, 8, 9]\n"
     ]
    }
   ],
   "source": [
    "number = list(range(10))\n",
    "print(number)"
   ]
  },
  {
   "cell_type": "code",
   "execution_count": 61,
   "metadata": {},
   "outputs": [
    {
     "name": "stdout",
     "output_type": "stream",
     "text": [
      "[4, 5, 6, 7, 8, 9]\n"
     ]
    }
   ],
   "source": [
    "del number[:4]\n",
    "print(number)"
   ]
  },
  {
   "cell_type": "code",
   "execution_count": 62,
   "metadata": {},
   "outputs": [
    {
     "name": "stdout",
     "output_type": "stream",
     "text": [
      "[0, 77, 88, 3, 4, 5, 6, 7, 8, 9]\n"
     ]
    }
   ],
   "source": [
    "number = list(range(10))\n",
    "number[1:3] = [77, 88]\n",
    "print(number)"
   ]
  },
  {
   "cell_type": "code",
   "execution_count": 63,
   "metadata": {},
   "outputs": [
    {
     "name": "stdout",
     "output_type": "stream",
     "text": [
      "[0, 77, 88, 99, 3, 4, 5, 6, 7, 8, 9]\n"
     ]
    }
   ],
   "source": [
    "number = list(range(10))\n",
    "number[1:3] = [77, 88, 99]\n",
    "print(number)"
   ]
  },
  {
   "cell_type": "code",
   "execution_count": 64,
   "metadata": {},
   "outputs": [
    {
     "name": "stdout",
     "output_type": "stream",
     "text": [
      "[0, 77, 88, 5, 6, 7, 8, 9]\n"
     ]
    }
   ],
   "source": [
    "number = list(range(10))\n",
    "number[1:5] = [77, 88]\n",
    "print(number)"
   ]
  },
  {
   "cell_type": "code",
   "execution_count": 65,
   "metadata": {},
   "outputs": [
    {
     "name": "stdout",
     "output_type": "stream",
     "text": [
      "[0, 77, 2, 88, 4, 99, 6, 100, 8, 9]\n"
     ]
    }
   ],
   "source": [
    "number = list(range(10))\n",
    "number[1:9:2] = [77, 88, 99, 100]\n",
    "print(number)"
   ]
  },
  {
   "cell_type": "code",
   "execution_count": 66,
   "metadata": {},
   "outputs": [
    {
     "name": "stdout",
     "output_type": "stream",
     "text": [
      "number[1:9:2] = [77, 88] 는 에러가 남\n"
     ]
    }
   ],
   "source": [
    "print('number[1:9:2] = [77, 88] 는 에러가 남')"
   ]
  },
  {
   "cell_type": "code",
   "execution_count": null,
   "metadata": {},
   "outputs": [],
   "source": []
  }
 ],
 "metadata": {
  "kernelspec": {
   "display_name": "Python 3",
   "language": "python",
   "name": "python3"
  },
  "language_info": {
   "codemirror_mode": {
    "name": "ipython",
    "version": 3
   },
   "file_extension": ".py",
   "mimetype": "text/x-python",
   "name": "python",
   "nbconvert_exporter": "python",
   "pygments_lexer": "ipython3",
   "version": "3.7.3"
  }
 },
 "nbformat": 4,
 "nbformat_minor": 2
}
