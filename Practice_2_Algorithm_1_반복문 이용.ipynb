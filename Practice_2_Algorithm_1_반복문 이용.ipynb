{
 "cells": [
  {
   "cell_type": "markdown",
   "metadata": {},
   "source": [
    "### # 'th'가 포함된 모든 단어들의 index 찾기 / '4' 의 모든 index 찾기"
   ]
  },
  {
   "cell_type": "code",
   "execution_count": 1,
   "metadata": {},
   "outputs": [],
   "source": [
    "list1 = ['math', 'mice', 'cat', 'that', 'that', 'true', 'thank', 'think']\n",
    "list2 = [1, 2, 4, 4, 8, 16, 4, 32, 64, 4, 128]"
   ]
  },
  {
   "cell_type": "code",
   "execution_count": 2,
   "metadata": {},
   "outputs": [
    {
     "name": "stdout",
     "output_type": "stream",
     "text": [
      "[0, 3, 4, 6, 7]\n"
     ]
    }
   ],
   "source": [
    "index = []\n",
    "\n",
    "for i, x in enumerate(list1) :\n",
    "    if 'th' in x :\n",
    "        index.append(i)\n",
    "        \n",
    "print(index)"
   ]
  },
  {
   "cell_type": "code",
   "execution_count": 3,
   "metadata": {},
   "outputs": [
    {
     "name": "stdout",
     "output_type": "stream",
     "text": [
      "[2, 3, 6, 9]\n"
     ]
    }
   ],
   "source": [
    "index = []\n",
    "\n",
    "for i, x in enumerate(list2) :\n",
    "    if x == 4 :\n",
    "        index.append(i)\n",
    "        \n",
    "print(index)"
   ]
  },
  {
   "cell_type": "code",
   "execution_count": 4,
   "metadata": {},
   "outputs": [],
   "source": [
    "def include_str(list_a, string) :\n",
    "    \n",
    "    index = []\n",
    "\n",
    "    for i, x in enumerate(list_a) :\n",
    "        if string in x :\n",
    "            index.append(i)\n",
    "            \n",
    "    return index"
   ]
  },
  {
   "cell_type": "code",
   "execution_count": 5,
   "metadata": {},
   "outputs": [
    {
     "name": "stdout",
     "output_type": "stream",
     "text": [
      "[0, 3, 4, 6, 7]\n"
     ]
    }
   ],
   "source": [
    "index = include_str(list1, 'th')\n",
    "print(index)"
   ]
  },
  {
   "cell_type": "code",
   "execution_count": 6,
   "metadata": {},
   "outputs": [],
   "source": [
    "def index_all(list_a, b) :\n",
    "    \n",
    "    index = []\n",
    "\n",
    "    for i, x in enumerate(list_a) :\n",
    "        if x == b :\n",
    "            index.append(i)\n",
    "            \n",
    "    return index"
   ]
  },
  {
   "cell_type": "code",
   "execution_count": 7,
   "metadata": {},
   "outputs": [
    {
     "name": "stdout",
     "output_type": "stream",
     "text": [
      "[2, 3, 6, 9]\n"
     ]
    }
   ],
   "source": [
    "index = index_all(list2, 4)\n",
    "print(index)"
   ]
  },
  {
   "cell_type": "code",
   "execution_count": 8,
   "metadata": {},
   "outputs": [
    {
     "name": "stdout",
     "output_type": "stream",
     "text": [
      "[0, 1]\n"
     ]
    }
   ],
   "source": [
    "index = include_str(list1, 'm')\n",
    "print(index)"
   ]
  },
  {
   "cell_type": "code",
   "execution_count": 9,
   "metadata": {},
   "outputs": [],
   "source": [
    "list3 = [10, 20, 10, 10, 30, 50]"
   ]
  },
  {
   "cell_type": "code",
   "execution_count": 10,
   "metadata": {},
   "outputs": [
    {
     "name": "stdout",
     "output_type": "stream",
     "text": [
      "[0, 2, 3]\n"
     ]
    }
   ],
   "source": [
    "index = index_all(list3, 10)\n",
    "print(index)"
   ]
  },
  {
   "cell_type": "markdown",
   "metadata": {},
   "source": [
    "### # List 안의 수들의 평균"
   ]
  },
  {
   "cell_type": "code",
   "execution_count": 11,
   "metadata": {},
   "outputs": [],
   "source": [
    "list3 = [77, 89, 102, 65, 48, 53, 77]"
   ]
  },
  {
   "cell_type": "code",
   "execution_count": 12,
   "metadata": {},
   "outputs": [],
   "source": [
    "def cal_mean(list_a) :\n",
    "    \n",
    "    sum = 0\n",
    "    \n",
    "    for i in list_a :\n",
    "        sum += i\n",
    "        \n",
    "    mean = sum / len(list_a)\n",
    "    \n",
    "    return mean"
   ]
  },
  {
   "cell_type": "code",
   "execution_count": 13,
   "metadata": {},
   "outputs": [
    {
     "name": "stdout",
     "output_type": "stream",
     "text": [
      "73.0\n"
     ]
    }
   ],
   "source": [
    "print(cal_mean(list3))"
   ]
  },
  {
   "cell_type": "markdown",
   "metadata": {},
   "source": [
    "### # List 안의 수 중에서 최소값/최대값 찾기"
   ]
  },
  {
   "cell_type": "code",
   "execution_count": 14,
   "metadata": {},
   "outputs": [],
   "source": [
    "list3 = [77, 89, 102, 65, 48, 53, 77]"
   ]
  },
  {
   "cell_type": "code",
   "execution_count": 15,
   "metadata": {},
   "outputs": [],
   "source": [
    "def find_min_max(list_a) :\n",
    "    \n",
    "    min = list_a[0]\n",
    "    max = list_a[0]\n",
    "    \n",
    "    for i in list_a :\n",
    "        if i < min :\n",
    "            min = i\n",
    "        if i > max :\n",
    "            max = i\n",
    "    \n",
    "    return min, max"
   ]
  },
  {
   "cell_type": "code",
   "execution_count": 16,
   "metadata": {},
   "outputs": [
    {
     "name": "stdout",
     "output_type": "stream",
     "text": [
      "(48, 102)\n"
     ]
    }
   ],
   "source": [
    "print(find_min_max(list3))"
   ]
  },
  {
   "cell_type": "code",
   "execution_count": 17,
   "metadata": {},
   "outputs": [
    {
     "name": "stdout",
     "output_type": "stream",
     "text": [
      "48\n"
     ]
    }
   ],
   "source": [
    "print(find_min_max(list3)[0])"
   ]
  },
  {
   "cell_type": "code",
   "execution_count": 18,
   "metadata": {},
   "outputs": [
    {
     "name": "stdout",
     "output_type": "stream",
     "text": [
      "102\n"
     ]
    }
   ],
   "source": [
    "print(find_min_max(list3)[1])"
   ]
  },
  {
   "cell_type": "markdown",
   "metadata": {},
   "source": [
    "### # List 안의 수 오름차순 정렬"
   ]
  },
  {
   "cell_type": "code",
   "execution_count": 19,
   "metadata": {},
   "outputs": [],
   "source": [
    "list3 = [77, 89, 102, 65, 48, 53, 77]"
   ]
  },
  {
   "cell_type": "code",
   "execution_count": 20,
   "metadata": {},
   "outputs": [],
   "source": [
    "def list_sort(list_a) :\n",
    "    \n",
    "    sort = []\n",
    "    n = len(list_a)\n",
    "    \n",
    "    for i in range(n) :\n",
    "        min = find_min_max(list_a)[0]\n",
    "        sort.append(min)\n",
    "        list_a.remove(min)\n",
    "    \n",
    "    return sort"
   ]
  },
  {
   "cell_type": "code",
   "execution_count": 21,
   "metadata": {},
   "outputs": [
    {
     "name": "stdout",
     "output_type": "stream",
     "text": [
      "[48, 53, 65, 77, 77, 89, 102]\n"
     ]
    }
   ],
   "source": [
    "print(list_sort(list3))"
   ]
  },
  {
   "cell_type": "markdown",
   "metadata": {},
   "source": [
    "### # 성적 평균 및 순위 나열"
   ]
  },
  {
   "cell_type": "code",
   "execution_count": 22,
   "metadata": {},
   "outputs": [],
   "source": [
    "students = ['현수', '무영', '성준', '민호', '태윤', '성훈', '혜원', '동연', '수경', '철종']\n",
    "\n",
    "import numpy as np\n",
    "np.random.seed(30)\n",
    "math = list(np.random.randint(40, 100, size=10))\n",
    "english = list(np.random.randint(40, 100, size=10))\n",
    "science = list(np.random.randint(40, 100, size=10))"
   ]
  },
  {
   "cell_type": "code",
   "execution_count": 23,
   "metadata": {},
   "outputs": [
    {
     "data": {
      "text/plain": [
       "[77, 77, 85, 85, 92, 52, 63, 42, 93, 99]"
      ]
     },
     "execution_count": 23,
     "metadata": {},
     "output_type": "execute_result"
    }
   ],
   "source": [
    "math"
   ]
  },
  {
   "cell_type": "code",
   "execution_count": 24,
   "metadata": {},
   "outputs": [
    {
     "data": {
      "text/plain": [
       "[57, 86, 43, 81, 47, 95, 41, 89, 85, 75]"
      ]
     },
     "execution_count": 24,
     "metadata": {},
     "output_type": "execute_result"
    }
   ],
   "source": [
    "english"
   ]
  },
  {
   "cell_type": "code",
   "execution_count": 25,
   "metadata": {},
   "outputs": [
    {
     "data": {
      "text/plain": [
       "[58, 58, 92, 92, 78, 52, 56, 46, 67, 86]"
      ]
     },
     "execution_count": 25,
     "metadata": {},
     "output_type": "execute_result"
    }
   ],
   "source": [
    "science"
   ]
  },
  {
   "cell_type": "markdown",
   "metadata": {},
   "source": [
    "### # 구구단 출력"
   ]
  },
  {
   "cell_type": "markdown",
   "metadata": {},
   "source": [
    "### # 두 수의 최소 공배수/최대 공약수 구하기"
   ]
  },
  {
   "cell_type": "markdown",
   "metadata": {},
   "source": [
    "### # List 안의 중복 되는 수 제거"
   ]
  },
  {
   "cell_type": "code",
   "execution_count": null,
   "metadata": {},
   "outputs": [],
   "source": []
  }
 ],
 "metadata": {
  "kernelspec": {
   "display_name": "Python 3",
   "language": "python",
   "name": "python3"
  },
  "language_info": {
   "codemirror_mode": {
    "name": "ipython",
    "version": 3
   },
   "file_extension": ".py",
   "mimetype": "text/x-python",
   "name": "python",
   "nbconvert_exporter": "python",
   "pygments_lexer": "ipython3",
   "version": "3.7.3"
  }
 },
 "nbformat": 4,
 "nbformat_minor": 2
}
