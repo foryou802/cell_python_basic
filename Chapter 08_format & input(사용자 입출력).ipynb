{
 "cells": [
  {
   "cell_type": "markdown",
   "metadata": {},
   "source": [
    "## # format"
   ]
  },
  {
   "cell_type": "code",
   "execution_count": 1,
   "metadata": {},
   "outputs": [],
   "source": [
    "number = 20\n",
    "greeting = '안녕하세요'\n",
    "place = '문자열 포맷의 세계'\n",
    "welcome = '환영합니다'"
   ]
  },
  {
   "cell_type": "code",
   "execution_count": 2,
   "metadata": {},
   "outputs": [
    {
     "name": "stdout",
     "output_type": "stream",
     "text": [
      "20 번 손님, 안녕하세요 . 문자열 포맷의 세계 에 오신 것을 환영합니다 !\n"
     ]
    }
   ],
   "source": [
    "# 기존 방식\n",
    "print(number, '번 손님,', greeting, '.', place, '에 오신 것을', welcome, '!')"
   ]
  },
  {
   "cell_type": "code",
   "execution_count": 3,
   "metadata": {},
   "outputs": [],
   "source": [
    "# 새로운 방식\n",
    "base = '{}번 손님, {}. {}에 오신 것을 {}!'\n",
    "new = base.format(number, greeting, place, welcome)\n",
    "new2 = base .format(number, greeting, place, welcome)\n",
    "new3 = base.    format(number, greeting, place, welcome)"
   ]
  },
  {
   "cell_type": "code",
   "execution_count": 4,
   "metadata": {},
   "outputs": [
    {
     "name": "stdout",
     "output_type": "stream",
     "text": [
      "20번 손님, 안녕하세요. 문자열 포맷의 세계에 오신 것을 환영합니다!\n",
      "20번 손님, 안녕하세요. 문자열 포맷의 세계에 오신 것을 환영합니다!\n",
      "20번 손님, 안녕하세요. 문자열 포맷의 세계에 오신 것을 환영합니다!\n"
     ]
    }
   ],
   "source": [
    "print(new)\n",
    "print(new2)\n",
    "print(new3)"
   ]
  },
  {
   "cell_type": "code",
   "execution_count": 5,
   "metadata": {},
   "outputs": [
    {
     "name": "stdout",
     "output_type": "stream",
     "text": [
      "나는 가위, 너는 바위, 그래서 졌다...\n"
     ]
    }
   ],
   "source": [
    "mine = '가위'\n",
    "yours = '바위'\n",
    "result = '졌다...'\n",
    "print('나는 {}, 너는 {}, 그래서 {}' .format(mine, yours, result))"
   ]
  },
  {
   "cell_type": "code",
   "execution_count": 6,
   "metadata": {},
   "outputs": [
    {
     "name": "stdout",
     "output_type": "stream",
     "text": [
      "나는 바위, 너는 가위, 그래서 이겼어!\n"
     ]
    }
   ],
   "source": [
    "print('나는 {}, 너는 {}, 그래서 {}' .format('바위', '가위', '이겼어!'))"
   ]
  },
  {
   "cell_type": "code",
   "execution_count": 7,
   "metadata": {},
   "outputs": [
    {
     "name": "stdout",
     "output_type": "stream",
     "text": [
      "a = 123.457, b = 98.77\n"
     ]
    }
   ],
   "source": [
    "a = 123.45678\n",
    "b = 98.7654321\n",
    "print('a = {:.3f}, b = {:.2f}' .format(a, b))"
   ]
  },
  {
   "cell_type": "markdown",
   "metadata": {},
   "source": [
    "## # input"
   ]
  },
  {
   "cell_type": "code",
   "execution_count": 8,
   "metadata": {},
   "outputs": [
    {
     "name": "stdout",
     "output_type": "stream",
     "text": [
      "가위 바위 보 중 하나를 입력하세요.\n",
      "가위\n",
      "mine = 가위\n"
     ]
    }
   ],
   "source": [
    "print('가위 바위 보 중 하나를 입력하세요.')\n",
    "mine = input()\n",
    "print('mine =', mine)"
   ]
  },
  {
   "cell_type": "code",
   "execution_count": 9,
   "metadata": {},
   "outputs": [
    {
     "name": "stdout",
     "output_type": "stream",
     "text": [
      "가위 바위 보 중 하나를 입력하세요. >> 보\n",
      "mine = 보\n"
     ]
    }
   ],
   "source": [
    "print('가위 바위 보 중 하나를 입력하세요. >> ', end = '')   # end 함수를 써서 같은 줄에서 입력을 요구\n",
    "mine = input()\n",
    "print('mine =', mine)"
   ]
  },
  {
   "cell_type": "code",
   "execution_count": 10,
   "metadata": {},
   "outputs": [
    {
     "name": "stdout",
     "output_type": "stream",
     "text": [
      "숫자 하나 입력 >> 5\n",
      "mine = 5\n"
     ]
    }
   ],
   "source": [
    "mine = input('숫자 하나 입력 >> ')\n",
    "print('mine =', mine)"
   ]
  },
  {
   "cell_type": "code",
   "execution_count": 11,
   "metadata": {},
   "outputs": [
    {
     "name": "stdout",
     "output_type": "stream",
     "text": [
      "10.0\n"
     ]
    }
   ],
   "source": [
    "# print(mine + 5)    error 발생\n",
    "print(float(mine) + 5)"
   ]
  }
 ],
 "metadata": {
  "kernelspec": {
   "display_name": "Python 3",
   "language": "python",
   "name": "python3"
  },
  "language_info": {
   "codemirror_mode": {
    "name": "ipython",
    "version": 3
   },
   "file_extension": ".py",
   "mimetype": "text/x-python",
   "name": "python",
   "nbconvert_exporter": "python",
   "pygments_lexer": "ipython3",
   "version": "3.7.3"
  }
 },
 "nbformat": 4,
 "nbformat_minor": 2
}
